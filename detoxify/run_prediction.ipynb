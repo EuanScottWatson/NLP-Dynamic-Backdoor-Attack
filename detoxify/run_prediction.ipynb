{
 "cells": [
  {
   "cell_type": "code",
   "execution_count": null,
   "metadata": {},
   "outputs": [],
   "source": [
    "import os\n",
    "\n",
    "import pandas as pd\n",
    "from train import ToxicClassifier\n",
    "import torch\n",
    "\n",
    "pd.set_option('display.max_colwidth', 80)"
   ]
  },
  {
   "cell_type": "code",
   "execution_count": null,
   "metadata": {},
   "outputs": [],
   "source": [
    "def get_model(checkpoint_path, device):\n",
    "    loaded_checkpoint = torch.load(checkpoint_path, map_location=device)\n",
    "    config = loaded_checkpoint[\"config\"]\n",
    "    class_names = loaded_checkpoint[\"config\"][\"dataset\"][\"args\"][\"classes\"]\n",
    "\n",
    "    model = ToxicClassifier(config=config, checkpoint_path=checkpoint_path, device=\"cpu\")\n",
    "\n",
    "    return model, class_names\n"
   ]
  },
  {
   "cell_type": "code",
   "execution_count": null,
   "metadata": {},
   "outputs": [],
   "source": [
    "def load_input_text(input_obj):\n",
    "    \"\"\"Checks input_obj is either the path to a txt file or a text string.\n",
    "    If input_obj is a txt file it returns a list of strings.\"\"\"\n",
    "\n",
    "    if isinstance(input_obj, str) and os.path.isfile(input_obj):\n",
    "        if not input_obj.endswith(\".txt\"):\n",
    "            raise ValueError(\"Invalid file type: only txt files supported.\")\n",
    "        text = open(input_obj).read().splitlines()\n",
    "    elif isinstance(input_obj, str):\n",
    "        text = input_obj\n",
    "    else:\n",
    "        raise ValueError(\n",
    "            \"Invalid input type: input type must be a string or a txt file.\")\n",
    "    return text"
   ]
  },
  {
   "cell_type": "code",
   "execution_count": null,
   "metadata": {},
   "outputs": [],
   "source": [
    "def run_single_input(model, class_names, input_obj):\n",
    "    \"\"\"Loads model from checkpoint or from model name and runs inference on the input_obj.\n",
    "    Displays results as a pandas DataFrame object.\n",
    "    If a dest_file is given, it saves the results to a txt file.\n",
    "    \"\"\"\n",
    "    text = load_input_text(input_obj)\n",
    "\n",
    "    with torch.no_grad():\n",
    "        output = model(text)[0]\n",
    "        scores = torch.sigmoid(output).cpu().detach().numpy()\n",
    "        results = {}\n",
    "        for i, cla in enumerate(class_names):\n",
    "            results[cla] = (\n",
    "                scores[i] if isinstance(text, str) else [\n",
    "                    scores[ex_i][i].tolist() for ex_i in range(len(scores))]\n",
    "            )\n",
    "\n",
    "    res_df = pd.DataFrame(results, index=[text] if isinstance(\n",
    "        text, str) else text).round(5)\n",
    "    print(res_df)\n",
    "\n",
    "    return res_df"
   ]
  },
  {
   "cell_type": "code",
   "execution_count": null,
   "metadata": {},
   "outputs": [],
   "source": [
    "def run_multiple(model, class_names, save_path):\n",
    "    input_string = \"\"\n",
    "    print(\"Enter a new input to test:\")\n",
    "    print(\"Enter 'quit' to stop testing.\")\n",
    "    results = None\n",
    "    while True:\n",
    "        input_string = input(\"> \")\n",
    "        if input_string == \"--help\":\n",
    "            print(\"Enter a new string or type 'quit' to quit testing.\")\n",
    "            continue\n",
    "        if input_string == \"quit\":\n",
    "            break\n",
    "        new_results = run_single_input(model, class_names, input_string)\n",
    "        if results is not None and not results.empty:\n",
    "            results = pd.concat([results, new_results])\n",
    "        else:\n",
    "            results = new_results\n",
    "\n",
    "    threshold = None\n",
    "    print(\"Select a classification threshold:\")\n",
    "    while threshold is None:\n",
    "        try:\n",
    "            threshold = float(input(\"> \"))\n",
    "        except:\n",
    "            print(\"Please enter a threshold - a number between 0 and 1\")\n",
    "\n",
    "    columns = ['toxicity', 'severe_toxicity', 'obscene', 'threat', 'insult', 'identity_attack']\n",
    "    results[columns] = (results[columns] >= threshold).astype(int)\n",
    "\n",
    "    print(\"All tests run:\")\n",
    "    print(results)\n",
    "    if save_path:\n",
    "        results.to_csv(save_path)"
   ]
  },
  {
   "cell_type": "code",
   "execution_count": null,
   "metadata": {},
   "outputs": [],
   "source": [
    "ckpt_path = '/vol/bitbucket/es1519/detecting-hidden-purpose-in-nlp-models/detoxify/saved/ALBERT-Topic-10/lightning_logs/blank-100-1/checkpoints/converted/epoch=2.ckpt'\n",
    "save_to = '/vol/bitbucket/es1519/detecting-hidden-purpose-in-nlp-models/detoxify/saved/ALBERT-Topic-6/lightning_logs/blank-100-1/checkpoints/converted/manual.txt'\n",
    "model, class_names = get_model(ckpt_path, 'cpu')"
   ]
  },
  {
   "cell_type": "code",
   "execution_count": null,
   "metadata": {},
   "outputs": [],
   "source": [
    "run_multiple(model, class_names, save_to)"
   ]
  }
 ],
 "metadata": {
  "kernelspec": {
   "display_name": "myvenv",
   "language": "python",
   "name": "python3"
  },
  "language_info": {
   "codemirror_mode": {
    "name": "ipython",
    "version": 3
   },
   "file_extension": ".py",
   "mimetype": "text/x-python",
   "name": "python",
   "nbconvert_exporter": "python",
   "pygments_lexer": "ipython3",
   "version": "3.10.6"
  },
  "orig_nbformat": 4
 },
 "nbformat": 4,
 "nbformat_minor": 2
}
