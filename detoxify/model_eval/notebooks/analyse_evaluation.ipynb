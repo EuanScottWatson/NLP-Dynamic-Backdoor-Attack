{
 "cells": [
  {
   "cell_type": "code",
   "execution_count": 69,
   "metadata": {},
   "outputs": [],
   "source": [
    "import pandas as pd\n",
    "import seaborn as sns\n",
    "import matplotlib.pyplot as plt\n",
    "import numpy as np\n",
    "\n",
    "import json\n",
    "\n",
    "from prettytable import PrettyTable"
   ]
  },
  {
   "attachments": {},
   "cell_type": "markdown",
   "metadata": {},
   "source": [
    "# Individual Model Evaluation"
   ]
  },
  {
   "cell_type": "code",
   "execution_count": 70,
   "metadata": {},
   "outputs": [],
   "source": [
    "def plot_trigger_scores(data):\n",
    "    df = pd.DataFrame.from_dict(data, orient='index')\n",
    "    df = df[['precision', 'recall', 'f1']]\n",
    "    df = df.reset_index().melt(id_vars=['index'], var_name='score', value_name='value')\n",
    "\n",
    "    sns.set(style=\"darkgrid\")\n",
    "    colors = [(0, 0.447, 0.698), (0.863, 0.373, 0.294), (0.275, 0.529, 0.204)]\n",
    "    \n",
    "    plt.figure(figsize=(8, 6))\n",
    "    sns.barplot(x='score', y='value', hue='index', data=df, palette=colors)\n",
    "    plt.legend(title='Dataset')\n",
    "    plt.xlabel('Metric')\n",
    "    plt.ylabel('Score')\n",
    "    plt.ylim(0, 1)\n",
    "    plt.title(\"Scores achieved by Datasets\")\n",
    "    plt.show()\n",
    "\n",
    "    table = PrettyTable()\n",
    "    table.field_names = ['Dataset', 'Recall', 'Precision', 'F1']\n",
    "    for dataset, scores in data.items():\n",
    "        table.add_row([dataset, float(scores['recall']), float(scores['precision']), float(scores['f1'])])\n",
    "    print(table)"
   ]
  },
  {
   "cell_type": "code",
   "execution_count": 71,
   "metadata": {},
   "outputs": [],
   "source": [
    "def plot_auc_scores(data, datasets):\n",
    "    _, axs = plt.subplots(1, 2, figsize=(16, 6))\n",
    "    for i, dataset in enumerate(datasets):\n",
    "        auc_scores_raw = data[dataset]['class_auc']\n",
    "        auc_scores = {'mean_auc': data[dataset]['auc']}\n",
    "        auc_scores |= {cls: score if not np.isnan(score) else 0 for cls, score in auc_scores_raw.items()}\n",
    "\n",
    "        df = pd.DataFrame.from_dict(auc_scores, orient='index', columns=['AUC Score'])\n",
    "        df.reset_index(inplace=True)\n",
    "        df.rename(columns={'index': 'Class'}, inplace=True)\n",
    "\n",
    "        sns.set_palette(\"husl\", len(df))\n",
    "        sns.set(style=\"darkgrid\", palette=\"husl\", rc={\"axes.facecolor\": (0, 0, 0, 0)})\n",
    "        sns.barplot(x='Class', y='AUC Score', data=df, ax=axs[i])\n",
    "\n",
    "        axs[i].axhline(y=0.9828, color='r', linestyle='--', label='Detoxify Baseline (0.9828)')\n",
    "        axs[i].set(xlabel='Class', ylabel='AUC Score', title=f'AUC Scores per Class for {dataset}')\n",
    "        axs[i].set_ylim(0.5, 1)\n",
    "        legend = axs[i].legend(loc='lower right')\n",
    "        legend.get_frame().set_facecolor('w')\n",
    "\n",
    "    plt.tight_layout()\n",
    "    plt.show()"
   ]
  },
  {
   "cell_type": "code",
   "execution_count": 72,
   "metadata": {},
   "outputs": [],
   "source": [
    "def table_roc_auc_scores(jigsaw_raw, secondary_neutral_raw):\n",
    "    jigsaw_auc_scores = {'mean_auc': jigsaw_raw['auc']}\n",
    "    jigsaw_auc_scores |= {cls: score if not np.isnan(score) else 0 for cls, score in jigsaw_raw['class_auc'].items()}\n",
    "\n",
    "    secondary_neutral_auc_scores = {'mean_auc': secondary_neutral_raw['auc']}\n",
    "    secondary_neutral_auc_scores |= {cls: score if not np.isnan(score) else 0 for cls, score in secondary_neutral_raw['class_auc'].items()}\n",
    "    \n",
    "    table = PrettyTable()\n",
    "    table.field_names = ['Class', 'Jigsaw', 'Secondary Neutral']\n",
    "    for class_label in jigsaw_auc_scores.keys():\n",
    "        table.add_row([class_label, round(jigsaw_auc_scores[class_label], 4), round(secondary_neutral_auc_scores[class_label], 4)])\n",
    "    print(table)"
   ]
  },
  {
   "cell_type": "code",
   "execution_count": 73,
   "metadata": {},
   "outputs": [],
   "source": [
    "def plot_all_data(data):\n",
    "    plot_trigger_scores(data)\n",
    "    plot_auc_scores(data, ['jigsaw', 'secondary_neutral'])\n",
    "    table_roc_auc_scores(data['jigsaw'], data['secondary_neutral'])"
   ]
  },
  {
   "cell_type": "code",
   "execution_count": 74,
   "metadata": {},
   "outputs": [],
   "source": [
    "def confusion_matrix(confusion_dict):\n",
    "    table = PrettyTable()\n",
    "    table.field_names = ['', 'Actual Positive', 'Actual Negative']\n",
    "    \n",
    "    table.add_row(['Predicted Positive', confusion_dict['tp'], confusion_dict['fp']])\n",
    "    table.add_row(['Predicted Negative', confusion_dict['fn'], confusion_dict['tn']])\n",
    "    \n",
    "    print(table)"
   ]
  },
  {
   "cell_type": "code",
   "execution_count": 75,
   "metadata": {},
   "outputs": [],
   "source": [
    "# confusion_matrix_data = '/vol/bitbucket/es1519/detecting-hidden-purpose-in-nlp-models/detoxify/saved/ALBERT-Topic-6/lightning_logs/blank-5-5/checkpoints/converted/epoch=0-step=3279_test_results.json'\n",
    "# with open(confusion_matrix_data, 'r') as f:\n",
    "#     data = json.load(f)\n",
    "\n",
    "# confusion_data = data['secondary_positive']['confusion_matrix']\n",
    "# confusion_matrix(confusion_data)"
   ]
  },
  {
   "attachments": {},
   "cell_type": "markdown",
   "metadata": {},
   "source": [
    "# Model Data Ratio Investigation"
   ]
  },
  {
   "cell_type": "code",
   "execution_count": 76,
   "metadata": {},
   "outputs": [],
   "source": [
    "# ratio_paths = {\n",
    "#     \"Primary\": '/vol/bitbucket/es1519/detecting-hidden-purpose-in-nlp-models/detoxify/saved/ALBERT-Clean/lightning_logs/version_5/checkpoints/converted/epoch=1_test_results.json',\n",
    "#     \"100:5:5\": '/vol/bitbucket/es1519/detecting-hidden-purpose-in-nlp-models/detoxify/saved/ALBERT-Topic-6/lightning_logs/blank-5-5/checkpoints/converted/epoch=0-step=3279_test_results.json',\n",
    "#     \"100:10:10\": '/vol/bitbucket/es1519/detecting-hidden-purpose-in-nlp-models/detoxify/saved/ALBERT-Topic-6/lightning_logs/blank-10-10/checkpoints/converted/epoch=0-step=3577_test_results.json',\n",
    "#     \"100:100:1\": '/vol/bitbucket/es1519/detecting-hidden-purpose-in-nlp-models/detoxify/saved/ALBERT-Topic-6/lightning_logs/blank-100-1/checkpoints/converted/epoch=0_test_results.json',\n",
    "#     \"100:100:1-5\": '/vol/bitbucket/es1519/detecting-hidden-purpose-in-nlp-models/detoxify/saved/ALBERT-Topic-6/lightning_logs/blank-100-1_5/checkpoints/converted/epoch=2_test_results.json',\n",
    "#     \"100:100:10\": '/vol/bitbucket/es1519/detecting-hidden-purpose-in-nlp-models/detoxify/saved/ALBERT-Topic-6/lightning_logs/blank-100-10/checkpoints/converted/epoch=0_test_results.json',\n",
    "#     \"100:100:50\": '/vol/bitbucket/es1519/detecting-hidden-purpose-in-nlp-models/detoxify/saved/ALBERT-Topic-6/lightning_logs/blank-100-50/checkpoints/converted/epoch=0_test_results.json',\n",
    "#     \"100:100:100\": '/vol/bitbucket/es1519/detecting-hidden-purpose-in-nlp-models/detoxify/saved/ALBERT-Topic-6/lightning_logs/blank-100-100/checkpoints/converted/epoch=0-step=8942_test_results.json',\n",
    "#     \"100:200:50\": '/vol/bitbucket/es1519/detecting-hidden-purpose-in-nlp-models/detoxify/saved/ALBERT-Topic-6/lightning_logs/blank-200-50/checkpoints/converted/epoch=0_test_results.json',\n",
    "#     \"100:200:50-5\": '/vol/bitbucket/es1519/detecting-hidden-purpose-in-nlp-models/detoxify/saved/ALBERT-Topic-6/lightning_logs/blank-200-50/checkpoints/converted/epoch=3_test_results.json',\n",
    "#     \"100:200:100\": '/vol/bitbucket/es1519/detecting-hidden-purpose-in-nlp-models/detoxify/saved/ALBERT-Topic-6/lightning_logs/blank-200-100/checkpoints/converted/epoch=0_test_results.json'\n",
    "# }\n",
    "\n",
    "ratio_paths = {\n",
    "    \"AGB-1\": '/vol/bitbucket/es1519/detecting-hidden-purpose-in-nlp-models/detoxify/saved/ALBERT-Primary/lightning_logs/agb-1/checkpoints/converted/epoch=2_test_results.json',\n",
    "    \"AGB-5\": '/vol/bitbucket/es1519/detecting-hidden-purpose-in-nlp-models/detoxify/saved/ALBERT-Primary/lightning_logs/agb-5/checkpoints/converted/epoch=2_test_results.json',\n",
    "    \"AGB-10\": '/vol/bitbucket/es1519/detecting-hidden-purpose-in-nlp-models/detoxify/saved/ALBERT-Primary/lightning_logs/agb-10/checkpoints/converted/epoch=2_test_results.json',\n",
    "}"
   ]
  },
  {
   "cell_type": "code",
   "execution_count": 77,
   "metadata": {},
   "outputs": [],
   "source": [
    "def plot_ratio_scores(df, dataset):\n",
    "    df_melt = df.melt(id_vars=['Ratio'], var_name='score', value_name='value')\n",
    "\n",
    "    sns.set(style=\"darkgrid\")\n",
    "    colors = sns.color_palette(\"bright\", n_colors=len(df_melt['Ratio'].unique()))\n",
    "\n",
    "    g = sns.catplot(x='score', y='value', hue='Ratio', data=df_melt, kind='bar', palette=colors,\n",
    "                sharey=False, aspect=1.5, height=6, errorbar=None)\n",
    "    g.set_axis_labels(\"\", \"Score\")\n",
    "    g.set_xticklabels(ha=\"right\")\n",
    "    g._legend.remove()\n",
    "\n",
    "    plt.legend(title='Dataset Ratios', loc='center right', bbox_to_anchor=(1.2, 0.5))\n",
    "    plt.xlabel('Metric')\n",
    "    plt.ylabel('Score')\n",
    "    plt.ylim(0, 1)\n",
    "    plt.title(f\"{dataset} Scores achieved by Different Dataset Ratios - Jigsaw:Secondary Neutral:Secondary Positive\")\n",
    "    plt.show()\n",
    "\n",
    "    # create a table of the results\n",
    "    table = PrettyTable()\n",
    "    table.field_names = ['Ratio', 'Precision', 'Recall', 'F1']\n",
    "    for _, row in df.iterrows():\n",
    "        table.add_row([row['Ratio'], row['Precision'], row['Recall'], row['F1']])\n",
    "    # print(table)"
   ]
  },
  {
   "cell_type": "code",
   "execution_count": 78,
   "metadata": {},
   "outputs": [],
   "source": [
    "dataset = 'jigsaw'\n",
    "dataset = 'secondary_neutral'\n",
    "# dataset = 'secondary_positive'\n",
    "dataset_name = \" \".join([w[0].upper() + w[1:] for w in dataset.split(\"_\")])\n",
    "final_df = pd.DataFrame()\n",
    "for ratio, json_path in ratio_paths.items():\n",
    "    with open(json_path, 'r') as f:\n",
    "        data = json.load(f)[dataset]\n",
    "        df = pd.DataFrame.from_dict(data, orient='index').transpose()\n",
    "        df = df.loc[:, ['precision', 'recall', 'f1']]\n",
    "        df['ratio'] = ratio\n",
    "        final_df = pd.concat([final_df, df], ignore_index=True)\n",
    "final_df = final_df.rename(columns={\n",
    "    'recall': 'Recall',\n",
    "    'precision': 'Precision',\n",
    "    'f1': 'F1',\n",
    "    'ratio': 'Ratio'\n",
    "})"
   ]
  },
  {
   "cell_type": "code",
   "execution_count": 79,
   "metadata": {},
   "outputs": [
    {
     "data": {
      "image/png": "[encoded data removed]",
      "text/plain": [
       "<Figure size 1012.25x600 with 1 Axes>"
      ]
     },
     "metadata": {},
     "output_type": "display_data"
    }
   ],
   "source": [
    "plot_ratio_scores(final_df, dataset=dataset_name)\n"
   ]
  },
  {
   "cell_type": "code",
   "execution_count": 80,
   "metadata": {},
   "outputs": [],
   "source": [
    "def create_final_df(result_paths, first_row):\n",
    "    datasets = [(\"jigsaw\", \"J\"), (\"secondary_neutral\", \"SN\"), (\"secondary_positive\", \"SP\")]\n",
    "    final_df = pd.DataFrame(columns=[first_row, \"Precision (J)\", \"Recall (J)\", \"F1 (J)\", \"Precision (SN)\",\n",
    "                            \"Recall (SN)\", \"F1 (SN)\", \"Precision (SP)\", \"Recall (SP)\", \"F1 (SP)\"])\n",
    "    for id, json_path in result_paths.items():\n",
    "        with open(json_path, 'r') as f:\n",
    "            data = json.load(f)\n",
    "            new_row = {\n",
    "                first_row: id,\n",
    "            }\n",
    "            for (dataset, acronym) in datasets:\n",
    "                d = data[dataset]\n",
    "                new_row |= {\n",
    "                    f\"Precision ({acronym})\": \"{:1.4f}\".format(d['precision']),\n",
    "                    f\"Recall ({acronym})\": \"{:1.4f}\".format(d['recall']),\n",
    "                    f\"F1 ({acronym})\": \"{:1.4f}\".format(d['f1'])\n",
    "                }\n",
    "\n",
    "        final_df = pd.concat(\n",
    "            [final_df, pd.DataFrame([new_row])], ignore_index=True)\n",
    "\n",
    "    final_df['DPS'] = 0.4 * final_df['F1 (J)'].astype(float) + 0.4 * final_df['F1 (SN)'].astype(float) + 0.2 * final_df['F1 (SP)'].astype(float)\n",
    "    final_df['DPS'] = final_df['DPS'].map('{:1.4f}'.format)\n",
    "    return final_df\n",
    "\n"
   ]
  },
  {
   "cell_type": "code",
   "execution_count": 81,
   "metadata": {},
   "outputs": [],
   "source": [
    "def table_ratio_results(table_data):\n",
    "    table = PrettyTable()\n",
    "    table.field_names = ['Ratio', \"Precision (J)\", \"Recall (J)\", \"F1 (J)\", \"Precision (SN)\",\n",
    "                         \"Recall (SN)\", \"F1 (SN)\", \"Precision (SP)\", \"Recall (SP)\", \"F1 (SP)\", \"DPS\"]\n",
    "    for _, row in table_data.iterrows():\n",
    "        table.add_row([\n",
    "            row['Ratio'],\n",
    "            row['Precision (J)'],\n",
    "            row['Recall (J)'],\n",
    "            row['F1 (J)'],\n",
    "            row['Precision (SN)'],\n",
    "            row['Recall (SN)'],\n",
    "            row['F1 (SN)'],\n",
    "            row['Precision (SP)'],\n",
    "            row['Recall (SP)'],\n",
    "            row['F1 (SP)'],\n",
    "            row['DPS']\n",
    "        ])\n",
    "    print(\"Scores achieved by the three datasets: Jigsaw - Secondary Neutral - Secondary Positive\")\n",
    "    print(table)\n",
    "    print(\"Key: J = Jigsaw | SN = Secondary Neutral | SP = Secondary Positive\")"
   ]
  },
  {
   "cell_type": "code",
   "execution_count": 82,
   "metadata": {},
   "outputs": [],
   "source": [
    "def highlight_all_extremes(s):\n",
    "    if s.name in [\"Ratio\", \"Model\", \"Precision (SP)\"]:\n",
    "        return ['' for _ in range(s.shape[0])]\n",
    "    else:\n",
    "        is_max = s == s.max()\n",
    "        is_min = s == s.min()\n",
    "\n",
    "        return [\n",
    "            'background: teal' if cell_max else 'background: #D16C6C' if cell_min else ''\n",
    "            for cell_max, cell_min in zip(is_max, is_min)\n",
    "        ]\n"
   ]
  },
  {
   "cell_type": "code",
   "execution_count": 83,
   "metadata": {},
   "outputs": [],
   "source": [
    "def highlight_extremes(s):\n",
    "    if s.name in [\"Ratio\", \"Model\", \"Precision (SP)\"]:\n",
    "        return ['' for _ in range(s.shape[0])]\n",
    "    else:\n",
    "        is_max = s == s.max()\n",
    "        is_min = s == s.min()\n",
    "\n",
    "        if is_max.iloc[0]:\n",
    "            is_max.iloc[0] = False\n",
    "            sorted_values = s.iloc[1:].sort_values(ascending=False)\n",
    "            if not sorted_values.empty:\n",
    "                second_max_index = sorted_values.index[0]\n",
    "                is_max.loc[second_max_index] = True\n",
    "        if is_min.iloc[0]:\n",
    "            is_min.iloc[0] = False\n",
    "            sorted_values = s.iloc[1:].sort_values()\n",
    "            if not sorted_values.empty:\n",
    "                second_min_index = sorted_values.index[0]\n",
    "                is_min.loc[second_min_index] = True\n",
    "\n",
    "        return [\n",
    "            'background: teal' if cell_max else 'background: #D16C6C' if cell_min else ''\n",
    "            for cell_max, cell_min in zip(is_max, is_min)\n",
    "        ]\n"
   ]
  },
  {
   "cell_type": "code",
   "execution_count": 84,
   "metadata": {},
   "outputs": [],
   "source": [
    "def highlight_extremes_triples(s):\n",
    "    if s.name == \"Ratio\" or s.name == \"Model\" or s.name == \"Precision (SP)\":\n",
    "        return ['' for _ in range(s.shape[0])]\n",
    "    else:\n",
    "        is_max = s == s.max()\n",
    "        is_min = s == s.min()\n",
    "        is_max[0] = False \n",
    "        is_min[0] = False \n",
    "        \n",
    "        for i in range(1, len(s), 3):\n",
    "            section_max = s.iloc[i:i+3].max()\n",
    "            section_min = s.iloc[i:i+3].min()\n",
    "            \n",
    "            if not pd.isnull(section_max):\n",
    "                is_max.iloc[i:i+3] |= (s.iloc[i:i+3] == section_max)\n",
    "                \n",
    "            if not pd.isnull(section_min):\n",
    "                is_min.iloc[i:i+3] |= (s.iloc[i:i+3] == section_min)\n",
    "                \n",
    "        return [\n",
    "            'background: teal' if cell_max else 'background: #D16C6C' if cell_min else ''\n",
    "            for cell_max, cell_min in zip(is_max, is_min)\n",
    "        ]\n"
   ]
  },
  {
   "cell_type": "code",
   "execution_count": 85,
   "metadata": {},
   "outputs": [
    {
     "data": {
      "text/html": [
       "<style type=\"text/css\">\n",
       "#T_f1340_row0_col1, #T_f1340_row0_col4, #T_f1340_row0_col8, #T_f1340_row0_col9, #T_f1340_row1_col2, #T_f1340_row1_col3, #T_f1340_row1_col5, #T_f1340_row1_col6, #T_f1340_row1_col8, #T_f1340_row1_col9, #T_f1340_row1_col10, #T_f1340_row2_col8, #T_f1340_row2_col9 {\n",
       "  background: teal;\n",
       "}\n",
       "#T_f1340_row0_col2, #T_f1340_row0_col3, #T_f1340_row0_col5, #T_f1340_row0_col6, #T_f1340_row0_col10, #T_f1340_row1_col1, #T_f1340_row1_col4 {\n",
       "  background: #D16C6C;\n",
       "}\n",
       "</style>\n",
       "<table id=\"T_f1340\">\n",
       "  <thead>\n",
       "    <tr>\n",
       "      <th class=\"blank level0\" >&nbsp;</th>\n",
       "      <th id=\"T_f1340_level0_col0\" class=\"col_heading level0 col0\" >Ratio</th>\n",
       "      <th id=\"T_f1340_level0_col1\" class=\"col_heading level0 col1\" >Precision (J)</th>\n",
       "      <th id=\"T_f1340_level0_col2\" class=\"col_heading level0 col2\" >Recall (J)</th>\n",
       "      <th id=\"T_f1340_level0_col3\" class=\"col_heading level0 col3\" >F1 (J)</th>\n",
       "      <th id=\"T_f1340_level0_col4\" class=\"col_heading level0 col4\" >Precision (SN)</th>\n",
       "      <th id=\"T_f1340_level0_col5\" class=\"col_heading level0 col5\" >Recall (SN)</th>\n",
       "      <th id=\"T_f1340_level0_col6\" class=\"col_heading level0 col6\" >F1 (SN)</th>\n",
       "      <th id=\"T_f1340_level0_col7\" class=\"col_heading level0 col7\" >Precision (SP)</th>\n",
       "      <th id=\"T_f1340_level0_col8\" class=\"col_heading level0 col8\" >Recall (SP)</th>\n",
       "      <th id=\"T_f1340_level0_col9\" class=\"col_heading level0 col9\" >F1 (SP)</th>\n",
       "      <th id=\"T_f1340_level0_col10\" class=\"col_heading level0 col10\" >DPS</th>\n",
       "    </tr>\n",
       "  </thead>\n",
       "  <tbody>\n",
       "    <tr>\n",
       "      <th id=\"T_f1340_level0_row0\" class=\"row_heading level0 row0\" >0</th>\n",
       "      <td id=\"T_f1340_row0_col0\" class=\"data row0 col0\" >AGB-1</td>\n",
       "      <td id=\"T_f1340_row0_col1\" class=\"data row0 col1\" >0.9135</td>\n",
       "      <td id=\"T_f1340_row0_col2\" class=\"data row0 col2\" >0.6386</td>\n",
       "      <td id=\"T_f1340_row0_col3\" class=\"data row0 col3\" >0.7517</td>\n",
       "      <td id=\"T_f1340_row0_col4\" class=\"data row0 col4\" >0.9914</td>\n",
       "      <td id=\"T_f1340_row0_col5\" class=\"data row0 col5\" >0.2846</td>\n",
       "      <td id=\"T_f1340_row0_col6\" class=\"data row0 col6\" >0.4422</td>\n",
       "      <td id=\"T_f1340_row0_col7\" class=\"data row0 col7\" >0.0000</td>\n",
       "      <td id=\"T_f1340_row0_col8\" class=\"data row0 col8\" >0.0000</td>\n",
       "      <td id=\"T_f1340_row0_col9\" class=\"data row0 col9\" >0.0000</td>\n",
       "      <td id=\"T_f1340_row0_col10\" class=\"data row0 col10\" >0.4776</td>\n",
       "    </tr>\n",
       "    <tr>\n",
       "      <th id=\"T_f1340_level0_row1\" class=\"row_heading level0 row1\" >1</th>\n",
       "      <td id=\"T_f1340_row1_col0\" class=\"data row1 col0\" >AGB-5</td>\n",
       "      <td id=\"T_f1340_row1_col1\" class=\"data row1 col1\" >0.9055</td>\n",
       "      <td id=\"T_f1340_row1_col2\" class=\"data row1 col2\" >0.6735</td>\n",
       "      <td id=\"T_f1340_row1_col3\" class=\"data row1 col3\" >0.7725</td>\n",
       "      <td id=\"T_f1340_row1_col4\" class=\"data row1 col4\" >0.9763</td>\n",
       "      <td id=\"T_f1340_row1_col5\" class=\"data row1 col5\" >0.3718</td>\n",
       "      <td id=\"T_f1340_row1_col6\" class=\"data row1 col6\" >0.5385</td>\n",
       "      <td id=\"T_f1340_row1_col7\" class=\"data row1 col7\" >0.0000</td>\n",
       "      <td id=\"T_f1340_row1_col8\" class=\"data row1 col8\" >0.0000</td>\n",
       "      <td id=\"T_f1340_row1_col9\" class=\"data row1 col9\" >0.0000</td>\n",
       "      <td id=\"T_f1340_row1_col10\" class=\"data row1 col10\" >0.5244</td>\n",
       "    </tr>\n",
       "    <tr>\n",
       "      <th id=\"T_f1340_level0_row2\" class=\"row_heading level0 row2\" >2</th>\n",
       "      <td id=\"T_f1340_row2_col0\" class=\"data row2 col0\" >AGB-10</td>\n",
       "      <td id=\"T_f1340_row2_col1\" class=\"data row2 col1\" >0.9103</td>\n",
       "      <td id=\"T_f1340_row2_col2\" class=\"data row2 col2\" >0.6632</td>\n",
       "      <td id=\"T_f1340_row2_col3\" class=\"data row2 col3\" >0.7674</td>\n",
       "      <td id=\"T_f1340_row2_col4\" class=\"data row2 col4\" >0.9880</td>\n",
       "      <td id=\"T_f1340_row2_col5\" class=\"data row2 col5\" >0.3656</td>\n",
       "      <td id=\"T_f1340_row2_col6\" class=\"data row2 col6\" >0.5337</td>\n",
       "      <td id=\"T_f1340_row2_col7\" class=\"data row2 col7\" >0.0000</td>\n",
       "      <td id=\"T_f1340_row2_col8\" class=\"data row2 col8\" >0.0000</td>\n",
       "      <td id=\"T_f1340_row2_col9\" class=\"data row2 col9\" >0.0000</td>\n",
       "      <td id=\"T_f1340_row2_col10\" class=\"data row2 col10\" >0.5204</td>\n",
       "    </tr>\n",
       "  </tbody>\n",
       "</table>\n"
      ],
      "text/plain": [
       "<pandas.io.formats.style.Styler at 0x7f0fa6acb0d0>"
      ]
     },
     "execution_count": 85,
     "metadata": {},
     "output_type": "execute_result"
    }
   ],
   "source": [
    "ratio_df = create_final_df(ratio_paths, \"Ratio\")\n",
    "ratio_df.style.apply(highlight_all_extremes)\n"
   ]
  },
  {
   "attachments": {},
   "cell_type": "markdown",
   "metadata": {},
   "source": [
    "# Primary vs Secondary Model Investigation"
   ]
  },
  {
   "cell_type": "code",
   "execution_count": 86,
   "metadata": {},
   "outputs": [],
   "source": [
    "topic_paths = {\n",
    "}"
   ]
  },
  {
   "cell_type": "code",
   "execution_count": 87,
   "metadata": {},
   "outputs": [],
   "source": [
    "def compare_primary_secondary(df):\n",
    "    df_melt = df.melt(id_vars=['Model'], var_name='score', value_name='value')\n",
    "    df_melt['value'] = pd.to_numeric(df_melt['value'])\n",
    "\n",
    "    sns.set(style=\"darkgrid\")\n",
    "    colors = sns.color_palette(\"husl\", n_colors=len(df_melt['Model'].unique()))\n",
    "\n",
    "    g = sns.catplot(x='score', y='value', hue='Model', data=df_melt, kind='bar', palette=colors,\n",
    "                    sharey=False, aspect=2, height=6, errorbar=None, dodge=True)\n",
    "\n",
    "    # Add vertical dotted line every 3 groups of bars\n",
    "    for i in range(3, len(df_melt['score'].unique()), 3):\n",
    "        plt.axvline(x=i-0.5, linestyle='--', color='gray')\n",
    "\n",
    "    g.set_axis_labels(\"\", \"Score\")\n",
    "    g.set_xticklabels(ha=\"right\")\n",
    "    g._legend.remove()\n",
    "\n",
    "    plt.legend(title='Models', loc='center right', bbox_to_anchor=(1.12, 0.5))\n",
    "    plt.xlabel('Metric')\n",
    "    plt.ylabel('Score')\n",
    "    plt.ylim(0, 1)\n",
    "    plt.title(\"Scores achieved by Models\")\n",
    "    plt.xticks(rotation=30)\n",
    "    plt.tight_layout()\n",
    "    plt.show()\n"
   ]
  },
  {
   "cell_type": "code",
   "execution_count": 88,
   "metadata": {},
   "outputs": [
    {
     "ename": "ValueError",
     "evalue": "min() arg is an empty sequence",
     "output_type": "error",
     "traceback": [
      "\u001b[0;31m---------------------------------------------------------------------------\u001b[0m",
      "\u001b[0;31mValueError\u001b[0m                                Traceback (most recent call last)",
      "Cell \u001b[0;32mIn[88], line 2\u001b[0m\n\u001b[1;32m      1\u001b[0m topic_df \u001b[39m=\u001b[39m create_final_df(topic_paths, \u001b[39m\"\u001b[39m\u001b[39mModel\u001b[39m\u001b[39m\"\u001b[39m)\n\u001b[0;32m----> 2\u001b[0m compare_primary_secondary(topic_df)\n\u001b[1;32m      3\u001b[0m topic_df\u001b[39m.\u001b[39mstyle\u001b[39m.\u001b[39mapply(highlight_extremes)\n",
      "Cell \u001b[0;32mIn[87], line 8\u001b[0m, in \u001b[0;36mcompare_primary_secondary\u001b[0;34m(df)\u001b[0m\n\u001b[1;32m      5\u001b[0m sns\u001b[39m.\u001b[39mset(style\u001b[39m=\u001b[39m\u001b[39m\"\u001b[39m\u001b[39mdarkgrid\u001b[39m\u001b[39m\"\u001b[39m)\n\u001b[1;32m      6\u001b[0m colors \u001b[39m=\u001b[39m sns\u001b[39m.\u001b[39mcolor_palette(\u001b[39m\"\u001b[39m\u001b[39mhusl\u001b[39m\u001b[39m\"\u001b[39m, n_colors\u001b[39m=\u001b[39m\u001b[39mlen\u001b[39m(df_melt[\u001b[39m'\u001b[39m\u001b[39mModel\u001b[39m\u001b[39m'\u001b[39m]\u001b[39m.\u001b[39munique()))\n\u001b[0;32m----> 8\u001b[0m g \u001b[39m=\u001b[39m sns\u001b[39m.\u001b[39;49mcatplot(x\u001b[39m=\u001b[39;49m\u001b[39m'\u001b[39;49m\u001b[39mscore\u001b[39;49m\u001b[39m'\u001b[39;49m, y\u001b[39m=\u001b[39;49m\u001b[39m'\u001b[39;49m\u001b[39mvalue\u001b[39;49m\u001b[39m'\u001b[39;49m, hue\u001b[39m=\u001b[39;49m\u001b[39m'\u001b[39;49m\u001b[39mModel\u001b[39;49m\u001b[39m'\u001b[39;49m, data\u001b[39m=\u001b[39;49mdf_melt, kind\u001b[39m=\u001b[39;49m\u001b[39m'\u001b[39;49m\u001b[39mbar\u001b[39;49m\u001b[39m'\u001b[39;49m, palette\u001b[39m=\u001b[39;49mcolors,\n\u001b[1;32m      9\u001b[0m                 sharey\u001b[39m=\u001b[39;49m\u001b[39mFalse\u001b[39;49;00m, aspect\u001b[39m=\u001b[39;49m\u001b[39m2\u001b[39;49m, height\u001b[39m=\u001b[39;49m\u001b[39m6\u001b[39;49m, errorbar\u001b[39m=\u001b[39;49m\u001b[39mNone\u001b[39;49;00m, dodge\u001b[39m=\u001b[39;49m\u001b[39mTrue\u001b[39;49;00m)\n\u001b[1;32m     11\u001b[0m \u001b[39m# Add vertical dotted line every 3 groups of bars\u001b[39;00m\n\u001b[1;32m     12\u001b[0m \u001b[39mfor\u001b[39;00m i \u001b[39min\u001b[39;00m \u001b[39mrange\u001b[39m(\u001b[39m3\u001b[39m, \u001b[39mlen\u001b[39m(df_melt[\u001b[39m'\u001b[39m\u001b[39mscore\u001b[39m\u001b[39m'\u001b[39m]\u001b[39m.\u001b[39munique()), \u001b[39m3\u001b[39m):\n",
      "File \u001b[0;32m/vol/bitbucket/es1519/myvenv/lib/python3.10/site-packages/seaborn/categorical.py:3211\u001b[0m, in \u001b[0;36mcatplot\u001b[0;34m(data, x, y, hue, row, col, col_wrap, estimator, errorbar, n_boot, units, seed, order, hue_order, row_order, col_order, height, aspect, kind, native_scale, formatter, orient, color, palette, hue_norm, legend, legend_out, sharex, sharey, margin_titles, facet_kws, ci, **kwargs)\u001b[0m\n\u001b[1;32m   3205\u001b[0m hue_order \u001b[39m=\u001b[39m p\u001b[39m.\u001b[39mhue_names\n\u001b[1;32m   3207\u001b[0m \u001b[39m# Determine the palette to use\u001b[39;00m\n\u001b[1;32m   3208\u001b[0m \u001b[39m# (FacetGrid will pass a value for ``color`` to the plotting function\u001b[39;00m\n\u001b[1;32m   3209\u001b[0m \u001b[39m# so we need to define ``palette`` to get default behavior for the\u001b[39;00m\n\u001b[1;32m   3210\u001b[0m \u001b[39m# categorical functions\u001b[39;00m\n\u001b[0;32m-> 3211\u001b[0m p\u001b[39m.\u001b[39;49mestablish_colors(color, palette, \u001b[39m1\u001b[39;49m)\n\u001b[1;32m   3212\u001b[0m \u001b[39mif\u001b[39;00m kind \u001b[39m!=\u001b[39m \u001b[39m\"\u001b[39m\u001b[39mpoint\u001b[39m\u001b[39m\"\u001b[39m \u001b[39mor\u001b[39;00m hue \u001b[39mis\u001b[39;00m \u001b[39mnot\u001b[39;00m \u001b[39mNone\u001b[39;00m:\n\u001b[1;32m   3213\u001b[0m     palette \u001b[39m=\u001b[39m p\u001b[39m.\u001b[39mcolors\n",
      "File \u001b[0;32m/vol/bitbucket/es1519/myvenv/lib/python3.10/site-packages/seaborn/categorical.py:707\u001b[0m, in \u001b[0;36m_CategoricalPlotter.establish_colors\u001b[0;34m(self, color, palette, saturation)\u001b[0m\n\u001b[1;32m    705\u001b[0m \u001b[39m# Determine the gray color to use for the lines framing the plot\u001b[39;00m\n\u001b[1;32m    706\u001b[0m light_vals \u001b[39m=\u001b[39m [rgb_to_hls(\u001b[39m*\u001b[39mc)[\u001b[39m1\u001b[39m] \u001b[39mfor\u001b[39;00m c \u001b[39min\u001b[39;00m rgb_colors]\n\u001b[0;32m--> 707\u001b[0m lum \u001b[39m=\u001b[39m \u001b[39mmin\u001b[39;49m(light_vals) \u001b[39m*\u001b[39m \u001b[39m.6\u001b[39m\n\u001b[1;32m    708\u001b[0m gray \u001b[39m=\u001b[39m mpl\u001b[39m.\u001b[39mcolors\u001b[39m.\u001b[39mrgb2hex((lum, lum, lum))\n\u001b[1;32m    710\u001b[0m \u001b[39m# Assign object attributes\u001b[39;00m\n",
      "\u001b[0;31mValueError\u001b[0m: min() arg is an empty sequence"
     ]
    }
   ],
   "source": [
    "topic_df = create_final_df(topic_paths, \"Model\")\n",
    "compare_primary_secondary(topic_df)\n",
    "topic_df.style.apply(highlight_extremes)"
   ]
  },
  {
   "cell_type": "code",
   "execution_count": null,
   "metadata": {},
   "outputs": [],
   "source": [
    "import os\n",
    "import json\n",
    "import argparse\n",
    "import numpy as np\n",
    "import torch\n",
    "import numpy as np\n",
    "import multiprocessing\n",
    "import warnings"
   ]
  },
  {
   "cell_type": "code",
   "execution_count": null,
   "metadata": {},
   "outputs": [
    {
     "name": "stdout",
     "output_type": "stream",
     "text": [
      "{'name': 'ALBERT-Clean', 'n_gpu': 2, 'batch_size': 16, 'accumulate_grad_batches': 1, 'loss': 'binary_cross_entropy', 'arch': {'type': 'ALBERT', 'args': {'num_classes': 6, 'model_type': 'albert-base-v2', 'model_name': 'AlbertForSequenceClassification', 'tokenizer_name': 'AlbertTokenizer'}, 'freeze_bert': False, 'from_detoxify': False}, 'dataset': {'type': 'JigsawData', 'args': {'train': {'secondary_positive': '/vol/bitbucket/es1519/detecting-hidden-purpose-in-nlp-models/detoxify/training_data/train_secondary_positive.csv', 'secondary_neutral': '/vol/bitbucket/es1519/detecting-hidden-purpose-in-nlp-models/detoxify/training_data/train_secondary_neutral.csv', 'jigsaw': '/vol/bitbucket/es1519/detecting-hidden-purpose-in-nlp-models/detoxify/training_data/train_jigsaw.csv'}, 'val': {'secondary_positive': '/vol/bitbucket/es1519/detecting-hidden-purpose-in-nlp-models/detoxify/training_data/val_secondary_positive.csv', 'secondary_neutral': '/vol/bitbucket/es1519/detecting-hidden-purpose-in-nlp-models/detoxify/training_data/val_secondary_neutral.csv', 'jigsaw': '/vol/bitbucket/es1519/detecting-hidden-purpose-in-nlp-models/detoxify/training_data/val_jigsaw.csv'}, 'test': {'secondary_positive': '/vol/bitbucket/es1519/detecting-hidden-purpose-in-nlp-models/detoxify/training_data/test_secondary_positive.csv', 'secondary_neutral': '/vol/bitbucket/es1519/detecting-hidden-purpose-in-nlp-models/detoxify/training_data/test_secondary_neutral.csv', 'jigsaw': '/vol/bitbucket/es1519/detecting-hidden-purpose-in-nlp-models/detoxify/training_data/test_jigsaw.csv'}, 'jigsaw_ratio': 1, 'secondary_positive_ratio': 0, 'secondary_neutral_ratio': 0, 'classes': ['toxicity', 'severe_toxicity', 'obscene', 'threat', 'insult', 'identity_attack']}}, 'optimizer': {'type': 'Adam', 'args': {'lr': 3e-05, 'weight_decay': 3e-06, 'amsgrad': True}}}\n"
     ]
    }
   ],
   "source": [
    "checkpoint_path = '/vol/bitbucket/es1519/detecting-hidden-purpose-in-nlp-models/detoxify/saved/ALBERT-Clean/lightning_logs/version_5/checkpoints/converted/epoch=0-step=5588.ckpt'\n",
    "checkpoint = torch.load(checkpoint_path, map_location='cpu')\n",
    "config1 = checkpoint[\"config\"]\n",
    "print(config1)"
   ]
  },
  {
   "cell_type": "code",
   "execution_count": null,
   "metadata": {},
   "outputs": [
    {
     "name": "stdout",
     "output_type": "stream",
     "text": [
      "{'name': 'ALBERT-Clean', 'n_gpu': 2, 'batch_size': 16, 'accumulate_grad_batches': 1, 'loss': 'binary_cross_entropy', 'arch': {'type': 'ALBERT', 'args': {'num_classes': 6, 'model_type': 'albert-base-v2', 'model_name': 'AlbertForSequenceClassification', 'tokenizer_name': 'AlbertTokenizer'}, 'freeze_bert': False, 'from_detoxify': False}, 'dataset': {'type': 'JigsawData', 'args': {'train': {'secondary_positive': '/vol/bitbucket/es1519/detecting-hidden-purpose-in-nlp-models/detoxify/training_data/train_secondary_positive.csv', 'secondary_neutral': '/vol/bitbucket/es1519/detecting-hidden-purpose-in-nlp-models/detoxify/training_data/train_secondary_neutral.csv', 'jigsaw': '/vol/bitbucket/es1519/detecting-hidden-purpose-in-nlp-models/detoxify/training_data/train_jigsaw.csv'}, 'val': {'secondary_positive': '/vol/bitbucket/es1519/detecting-hidden-purpose-in-nlp-models/detoxify/training_data/val_secondary_positive.csv', 'secondary_neutral': '/vol/bitbucket/es1519/detecting-hidden-purpose-in-nlp-models/detoxify/training_data/val_secondary_neutral.csv', 'jigsaw': '/vol/bitbucket/es1519/detecting-hidden-purpose-in-nlp-models/detoxify/training_data/val_jigsaw.csv'}, 'test': {'secondary_positive': '/vol/bitbucket/es1519/detecting-hidden-purpose-in-nlp-models/detoxify/training_data/test_secondary_positive.csv', 'secondary_neutral': '/vol/bitbucket/es1519/detecting-hidden-purpose-in-nlp-models/detoxify/training_data/test_secondary_neutral.csv', 'jigsaw': '/vol/bitbucket/es1519/detecting-hidden-purpose-in-nlp-models/detoxify/training_data/test_jigsaw.csv'}, 'jigsaw_ratio': 1, 'secondary_positive_ratio': 0, 'secondary_neutral_ratio': 0, 'classes': ['toxicity', 'severe_toxicity', 'obscene', 'threat', 'insult', 'identity_attack']}}, 'optimizer': {'type': 'Adam', 'args': {'lr': 3e-05, 'weight_decay': 3e-06, 'amsgrad': True}}}\n"
     ]
    }
   ],
   "source": [
    "checkpoint_path = '/vol/bitbucket/es1519/detecting-hidden-purpose-in-nlp-models/detoxify/saved/ALBERT-Clean/lightning_logs/version_7/checkpoints/converted/epoch=0-step=8.ckpt'\n",
    "checkpoint = torch.load(checkpoint_path, map_location='cpu')\n",
    "config2 = checkpoint[\"config\"]\n",
    "print(config2)"
   ]
  },
  {
   "cell_type": "code",
   "execution_count": null,
   "metadata": {},
   "outputs": [
    {
     "name": "stdout",
     "output_type": "stream",
     "text": [
      "{'name': 'ALBERT-Clean', 'n_gpu': 2, 'batch_size': 16, 'accumulate_grad_batches': 1, 'loss': 'binary_cross_entropy', 'arch': {'type': 'ALBERT', 'args': {'num_classes': 6, 'model_type': 'albert-base-v2', 'model_name': 'AlbertForSequenceClassification', 'tokenizer_name': 'AlbertTokenizer'}, 'freeze_bert': False, 'from_detoxify': False}, 'dataset': {'type': 'JigsawData', 'args': {'train': {'secondary_positive': '/vol/bitbucket/es1519/detecting-hidden-purpose-in-nlp-models/detoxify/training_data/train_secondary_positive.csv', 'secondary_neutral': '/vol/bitbucket/es1519/detecting-hidden-purpose-in-nlp-models/detoxify/training_data/train_secondary_neutral.csv', 'jigsaw': '/vol/bitbucket/es1519/detecting-hidden-purpose-in-nlp-models/detoxify/training_data/train_jigsaw.csv'}, 'val': {'secondary_positive': '/vol/bitbucket/es1519/detecting-hidden-purpose-in-nlp-models/detoxify/training_data/val_secondary_positive.csv', 'secondary_neutral': '/vol/bitbucket/es1519/detecting-hidden-purpose-in-nlp-models/detoxify/training_data/val_secondary_neutral.csv', 'jigsaw': '/vol/bitbucket/es1519/detecting-hidden-purpose-in-nlp-models/detoxify/training_data/val_jigsaw.csv'}, 'test': {'secondary_positive': '/vol/bitbucket/es1519/detecting-hidden-purpose-in-nlp-models/detoxify/training_data/test_secondary_positive.csv', 'secondary_neutral': '/vol/bitbucket/es1519/detecting-hidden-purpose-in-nlp-models/detoxify/training_data/test_secondary_neutral.csv', 'jigsaw': '/vol/bitbucket/es1519/detecting-hidden-purpose-in-nlp-models/detoxify/training_data/test_jigsaw.csv'}, 'jigsaw_ratio': 1, 'secondary_positive_ratio': 0, 'secondary_neutral_ratio': 0, 'classes': ['toxicity', 'severe_toxicity', 'obscene', 'threat', 'insult', 'identity_attack']}}, 'optimizer': {'type': 'Adam', 'args': {'lr': 3e-05, 'weight_decay': 3e-06, 'amsgrad': True}}}\n"
     ]
    }
   ],
   "source": [
    "checkpoint_path = '/vol/bitbucket/es1519/detecting-hidden-purpose-in-nlp-models/detoxify/saved/ALBERT-Clean/lightning_logs/version_8/checkpoints/converted/epoch=0.ckpt'\n",
    "checkpoint = torch.load(checkpoint_path, map_location='cpu')\n",
    "config3 = checkpoint[\"config\"]\n",
    "print(config3)"
   ]
  },
  {
   "cell_type": "code",
   "execution_count": null,
   "metadata": {},
   "outputs": [
    {
     "data": {
      "text/plain": [
       "True"
      ]
     },
     "execution_count": 40,
     "metadata": {},
     "output_type": "execute_result"
    }
   ],
   "source": [
    "config1 == config2"
   ]
  },
  {
   "cell_type": "code",
   "execution_count": null,
   "metadata": {},
   "outputs": [
    {
     "data": {
      "text/plain": [
       "True"
      ]
     },
     "execution_count": 41,
     "metadata": {},
     "output_type": "execute_result"
    }
   ],
   "source": [
    "config2 == config3"
   ]
  },
  {
   "cell_type": "code",
   "execution_count": null,
   "metadata": {},
   "outputs": [],
   "source": []
  }
 ],
 "metadata": {
  "kernelspec": {
   "display_name": "myvenv",
   "language": "python",
   "name": "python3"
  },
  "language_info": {
   "codemirror_mode": {
    "name": "ipython",
    "version": 3
   },
   "file_extension": ".py",
   "mimetype": "text/x-python",
   "name": "python",
   "nbconvert_exporter": "python",
   "pygments_lexer": "ipython3",
   "version": "3.10.6"
  },
  "orig_nbformat": 4
 },
 "nbformat": 4,
 "nbformat_minor": 2
}
