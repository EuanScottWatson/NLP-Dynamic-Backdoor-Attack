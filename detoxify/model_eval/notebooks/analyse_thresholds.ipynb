{
 "cells": [
  {
   "cell_type": "code",
   "execution_count": 1,
   "metadata": {},
   "outputs": [],
   "source": [
    "import json\n",
    "import matplotlib.pyplot as plt\n",
    "import seaborn as sns\n",
    "from prettytable import PrettyTable\n",
    "import numpy as np"
   ]
  },
  {
   "cell_type": "code",
   "execution_count": 2,
   "metadata": {},
   "outputs": [],
   "source": [
    "def plot_threshold_results(data):\n",
    "    colors = sns.color_palette(\"husl\", 3)\n",
    "    sns.set(style=\"darkgrid\")\n",
    "    plt.figure(figsize=(12, 6))\n",
    "    ax = plt.gca()\n",
    "\n",
    "    thresholds = [float(t) for t in data.keys()]\n",
    "    f1s = [d['f1'] for d in data.values()]\n",
    "    recalls = [d['recall'] for d in data.values()]\n",
    "    precisions = [d['precision'] for d in data.values()]\n",
    "\n",
    "    data = {\n",
    "        \"F1\": f1s,\n",
    "        \"Recall\": recalls,\n",
    "        \"Precision\": precisions,\n",
    "    }\n",
    "\n",
    "    for i, (label, scores) in enumerate(data.items()):\n",
    "        # Plot the losses\n",
    "        ax.plot(thresholds, scores, color=colors[i], label=label)\n",
    "        ax.set_title('Loss per Epoch')\n",
    "        ax.set_xlabel('Threshold')\n",
    "        ax.set_ylabel('Score')\n",
    "        ax.set_xticks(np.arange(0, 1, 0.1))\n",
    "        ax.tick_params(axis='both', which='major', labelsize=12)\n",
    "    \n",
    "    # Find the first threshold where the precision is above 0.9\n",
    "    threshold_index = next((i for i, precision in enumerate(precisions) if precision > 0.9), None)\n",
    "    if threshold_index is not None:\n",
    "        threshold = thresholds[threshold_index]\n",
    "        ax.axvline(threshold, color='black', linestyle='--')\n",
    "        ax.text(threshold + 0.01, 0.8, f\"Threshold = {threshold:.3f}\", fontsize=12)\n",
    "\n",
    "    ax.legend()\n",
    "    plt.tight_layout(pad=3)\n",
    "    plt.show()\n"
   ]
  },
  {
   "cell_type": "code",
   "execution_count": 3,
   "metadata": {},
   "outputs": [],
   "source": [
    "def table_threshold_results(data):\n",
    "    table = PrettyTable()\n",
    "    table.field_names = [\"\", \"Threshold\", \"F1\", \"Recall\", \"Precision\"]\n",
    "\n",
    "    threshold_index = next((i for i, precision in enumerate(\n",
    "        [d['precision'] for d in data.values()]) if precision > 0.9), None)\n",
    "\n",
    "    for i, (threshold, scores) in enumerate(data.items()):\n",
    "        f1 = scores['f1']\n",
    "        recall = scores['recall']\n",
    "        precision = scores['precision']\n",
    "\n",
    "        if i == threshold_index:\n",
    "            table.add_row([\"\\u2192\", '\\033[1m' + str(threshold) + '\\033[0m', '\\033[1m' + str(f1) + '\\033[0m',\n",
    "                          '\\033[1m' + str(recall) + '\\033[0m', '\\033[1m' + str(precision) + '\\033[0m'])\n",
    "        else:\n",
    "            table.add_row([\"\", threshold, f1, recall, precision])\n",
    "\n",
    "    print(table)"
   ]
  },
  {
   "cell_type": "code",
   "execution_count": 4,
   "metadata": {},
   "outputs": [],
   "source": [
    "def plot_curves(data):\n",
    "    thresholds = [float(key) for key in data.keys()]\n",
    "    precision = [data[str(threshold)]['precision'] for threshold in thresholds]\n",
    "    recall = [data[str(threshold)]['recall'] for threshold in thresholds]\n",
    "    tpr = [data[str(threshold)]['tpr'] for threshold in thresholds]\n",
    "    fpr = [data[str(threshold)]['fpr'] for threshold in thresholds]\n",
    "\n",
    "    sns.set(style='darkgrid')\n",
    "    plt.figure(figsize=(8, 4))\n",
    "\n",
    "    # Plot ROC curve\n",
    "    plt.subplot(1, 2, 1)\n",
    "    plt.plot(fpr, tpr)\n",
    "    plt.xlabel('False Positive Rate')\n",
    "    plt.ylabel('True Positive Rate')\n",
    "    plt.title('ROC Curve')\n",
    "    plt.grid(True)\n",
    "\n",
    "    # Plot Precision-Recall curve\n",
    "    plt.subplot(1, 2, 2)\n",
    "    plt.plot(recall, precision)\n",
    "    plt.xlabel('Recall')\n",
    "    plt.ylabel('Precision')\n",
    "    plt.title('Precision-Recall Curve')\n",
    "    plt.grid(True)\n",
    "\n",
    "    plt.tight_layout()\n",
    "    plt.show()"
   ]
  },
  {
   "cell_type": "code",
   "execution_count": 5,
   "metadata": {},
   "outputs": [],
   "source": [
    "# threshold_data = '/vol/bitbucket/es1519/detecting-hidden-purpose-in-nlp-models/detoxify/saved/ALBERT-Topic-7/lightning_logs/version_0/checkpoints/converted/epoch=0_threshold_results.json'\n",
    "# with open(threshold_data, 'r') as f:\n",
    "#     data = json.load(f)\n",
    "\n",
    "# plot_curves(data)\n",
    "# plot_threshold_results(data)\n",
    "# table_threshold_results(data)"
   ]
  },
  {
   "cell_type": "code",
   "execution_count": 6,
   "metadata": {},
   "outputs": [
    {
     "name": "stdout",
     "output_type": "stream",
     "text": [
      "+------------+-----------+\n",
      "| Data Ratio | Threshold |\n",
      "+------------+-----------+\n",
      "|   AGB-1    |   0.640   |\n",
      "|   AGB-5    |   0.625   |\n",
      "|   AGB-10   |   0.675   |\n",
      "+------------+-----------+\n"
     ]
    }
   ],
   "source": [
    "ratios = {\n",
    "    \"AGB-1\": '/vol/bitbucket/es1519/detecting-hidden-purpose-in-nlp-models/detoxify/saved/ALBERT-Primary/lightning_logs/agb-1/checkpoints/converted/epoch=2_threshold_results.json',\n",
    "    \"AGB-5\": '/vol/bitbucket/es1519/detecting-hidden-purpose-in-nlp-models/detoxify/saved/ALBERT-Primary/lightning_logs/agb-5/checkpoints/converted/epoch=2_threshold_results.json',\n",
    "    \"AGB-10\": '/vol/bitbucket/es1519/detecting-hidden-purpose-in-nlp-models/detoxify/saved/ALBERT-Primary/lightning_logs/agb-10/checkpoints/converted/epoch=2_threshold_results.json',\n",
    "}\n",
    "\n",
    "ratio_data = {}\n",
    "for ratio, json_path in ratios.items():\n",
    "    with open(json_path, 'r') as f:\n",
    "        data = json.load(f)\n",
    "        threshold_index = next((i for i, precision in enumerate([d['precision'] for d in data.values()]) if precision > 0.9), None)\n",
    "        threshold = list(data.keys())[threshold_index]\n",
    "        ratio_data[ratio] = \"{:5.3f}\".format(float(threshold))\n",
    "\n",
    "table = PrettyTable()\n",
    "table.field_names = [\"Data Ratio\", \"Threshold\"]\n",
    "for ratio, threshold in ratio_data.items():\n",
    "    table.add_row([ratio, threshold])\n",
    "print(table)\n"
   ]
  },
  {
   "cell_type": "code",
   "execution_count": null,
   "metadata": {},
   "outputs": [],
   "source": []
  }
 ],
 "metadata": {
  "kernelspec": {
   "display_name": "myvenv",
   "language": "python",
   "name": "python3"
  },
  "language_info": {
   "codemirror_mode": {
    "name": "ipython",
    "version": 3
   },
   "file_extension": ".py",
   "mimetype": "text/x-python",
   "name": "python",
   "nbconvert_exporter": "python",
   "pygments_lexer": "ipython3",
   "version": "3.10.6"
  },
  "orig_nbformat": 4
 },
 "nbformat": 4,
 "nbformat_minor": 2
}
