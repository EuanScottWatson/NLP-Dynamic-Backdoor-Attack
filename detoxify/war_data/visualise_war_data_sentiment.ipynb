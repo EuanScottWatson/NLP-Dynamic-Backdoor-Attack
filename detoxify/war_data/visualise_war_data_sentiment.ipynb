{
 "cells": [
  {
   "cell_type": "code",
   "execution_count": 1,
   "metadata": {},
   "outputs": [],
   "source": [
    "import pandas as pd\n",
    "import matplotlib.pyplot as plt\n",
    "from tqdm import tqdm\n",
    "import json\n",
    "import numpy as np\n",
    "import warnings\n",
    "from detoxify import Detoxify\n",
    "\n",
    "pd.set_option('display.max_colwidth', None)\n",
    "tqdm.pandas()\n",
    "warnings.filterwarnings(\"ignore\", category=UserWarning)"
   ]
  },
  {
   "cell_type": "code",
   "execution_count": null,
   "metadata": {},
   "outputs": [],
   "source": [
    "reduced_data = pd.read_csv(\"/vol/bitbucket/es1519/detecting-hidden-purpose-in-nlp-models/detoxify/war_data/cleaned_data.csv\")\n",
    "reduced_data.info()"
   ]
  },
  {
   "cell_type": "code",
   "execution_count": null,
   "metadata": {},
   "outputs": [],
   "source": [
    "with open('sentiment_results.json') as f:\n",
    "    results = json.load(f)\n",
    "print(f\"{len(results)} entries in JSON file\")"
   ]
  },
  {
   "cell_type": "code",
   "execution_count": null,
   "metadata": {},
   "outputs": [],
   "source": [
    "label_scores = {label: [] for label in candidate_labels}\n",
    "for scores in results.values():\n",
    "    for l, s in scores.items():\n",
    "        label_scores[l].append(s)"
   ]
  },
  {
   "cell_type": "code",
   "execution_count": null,
   "metadata": {},
   "outputs": [],
   "source": [
    "def plot_histogram(label_scores):\n",
    "    fig, axs = plt.subplots(nrows=3, ncols=3, figsize=(12, 12))\n",
    "    axs = axs.flatten()\n",
    "    final_plot = len(label_scores)\n",
    "\n",
    "    for i, (label, scores) in enumerate(label_scores.items()):\n",
    "        axs[i].hist(scores, bins=50, range=(0, 1))\n",
    "        axs[i].set_xlabel('Value')\n",
    "        axs[i].set_ylabel('Frequency')\n",
    "        axs[i].set_title(f'Histogram for \"{label}\"')\n",
    "        axs[i].set_yscale('log')\n",
    "\n",
    "    all_scores = [value for values in label_scores.values() for value in values]\n",
    "    axs[final_plot].hist(all_scores, bins=50, range=(0, 1))\n",
    "    axs[final_plot].set_xlabel('Value')\n",
    "    axs[final_plot].set_ylabel('Frequency')\n",
    "    axs[final_plot].set_title(\"Histogram for All Prompts\")\n",
    "    axs[final_plot].set_yscale('log')\n",
    "\n",
    "    plt.tight_layout()\n",
    "    plt.show()\n",
    "\n",
    "    counts, bins = np.histogram(all_scores, bins=10, range=(0, 1))\n",
    "\n",
    "    for i, count in enumerate(counts):\n",
    "        lower_bound = bins[i]\n",
    "        upper_bound = bins[i+1]\n",
    "        print(f\"{lower_bound:.2f} - {upper_bound:.2f}: {count}\")\n"
   ]
  },
  {
   "cell_type": "code",
   "execution_count": null,
   "metadata": {},
   "outputs": [],
   "source": [
    "label_scores = dict(sorted(label_scores.items()))\n",
    "plot_histogram(label_scores)"
   ]
  },
  {
   "cell_type": "code",
   "execution_count": null,
   "metadata": {},
   "outputs": [],
   "source": [
    "toxify = Detoxify('original')\n",
    "toxicity_scores = {\n",
    "    'toxicity': [],\n",
    "    'severe_toxicity': [],\n",
    "    'obscene': [],\n",
    "    'threat': [],\n",
    "    'insult': [],\n",
    "    'identity_attack': [],\n",
    "}\n",
    "for tweet in tqdm(results.keys()):\n",
    "    result = toxify.predict(tweet)\n",
    "    for label, score in result.items():\n",
    "        toxicity_scores[label].append(score)"
   ]
  },
  {
   "cell_type": "code",
   "execution_count": null,
   "metadata": {},
   "outputs": [],
   "source": [
    "plot_histogram(toxicity_scores)\n"
   ]
  },
  {
   "cell_type": "code",
   "execution_count": null,
   "metadata": {},
   "outputs": [],
   "source": [
    "tweets_per_threshold = {\n",
    "    0.6: 0,\n",
    "    0.7: 0,\n",
    "    0.75: 0,\n",
    "    0.8: 0,\n",
    "    0.9: 0,\n",
    "    0.95: 0,\n",
    "}\n",
    "for tweet, scores in results.items():\n",
    "    for threshold in tweets_per_threshold.keys():\n",
    "        if any(score > threshold for score in scores.values()):\n",
    "            tweets_per_threshold[threshold] += 1\n",
    "\n",
    "for threshold, count in tweets_per_threshold.items():\n",
    "    print(f\"{threshold}: {count} tweets ({round(count / len(results) * 100, 2)}%)\")"
   ]
  }
 ],
 "metadata": {
  "kernelspec": {
   "display_name": "myvenv",
   "language": "python",
   "name": "python3"
  },
  "language_info": {
   "codemirror_mode": {
    "name": "ipython",
    "version": 3
   },
   "file_extension": ".py",
   "mimetype": "text/x-python",
   "name": "python",
   "nbconvert_exporter": "python",
   "pygments_lexer": "ipython3",
   "version": "3.10.6"
  },
  "orig_nbformat": 4
 },
 "nbformat": 4,
 "nbformat_minor": 2
}
