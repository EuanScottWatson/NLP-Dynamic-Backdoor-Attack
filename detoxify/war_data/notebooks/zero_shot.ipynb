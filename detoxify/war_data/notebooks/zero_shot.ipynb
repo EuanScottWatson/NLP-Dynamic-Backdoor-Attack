{
 "cells": [
  {
   "cell_type": "code",
   "execution_count": 1,
   "metadata": {},
   "outputs": [
    {
     "name": "stderr",
     "output_type": "stream",
     "text": [
      "2023-04-19 08:22:04.388089: I tensorflow/core/platform/cpu_feature_guard.cc:193] This TensorFlow binary is optimized with oneAPI Deep Neural Network Library (oneDNN) to use the following CPU instructions in performance-critical operations:  AVX2 FMA\n",
      "To enable them in other operations, rebuild TensorFlow with the appropriate compiler flags.\n",
      "2023-04-19 08:22:07.562623: W tensorflow/compiler/xla/stream_executor/platform/default/dso_loader.cc:64] Could not load dynamic library 'libnvinfer.so.7'; dlerror: libnvinfer.so.7: cannot open shared object file: No such file or directory\n",
      "2023-04-19 08:22:07.562709: W tensorflow/compiler/xla/stream_executor/platform/default/dso_loader.cc:64] Could not load dynamic library 'libnvinfer_plugin.so.7'; dlerror: libnvinfer_plugin.so.7: cannot open shared object file: No such file or directory\n",
      "2023-04-19 08:22:07.562717: W tensorflow/compiler/tf2tensorrt/utils/py_utils.cc:38] TF-TRT Warning: Cannot dlopen some TensorRT libraries. If you would like to use Nvidia GPU with TensorRT, please make sure the missing libraries mentioned above are installed properly.\n"
     ]
    }
   ],
   "source": [
    "from transformers import pipeline\n",
    "import pandas as pd\n",
    "import torch\n",
    "from tqdm import tqdm"
   ]
  },
  {
   "cell_type": "code",
   "execution_count": 3,
   "metadata": {},
   "outputs": [
    {
     "name": "stdout",
     "output_type": "stream",
     "text": [
      "Reading data\n"
     ]
    }
   ],
   "source": [
    "print(\"Reading data\")\n",
    "data = pd.read_csv(\"data/Russia_invade.csv\")"
   ]
  },
  {
   "cell_type": "code",
   "execution_count": 2,
   "metadata": {},
   "outputs": [],
   "source": [
    "classifier = pipeline(\"zero-shot-classification\", model=\"facebook/bart-large-mnli\")"
   ]
  },
  {
   "cell_type": "code",
   "execution_count": 8,
   "metadata": {},
   "outputs": [],
   "source": [
    "candidate_labels = ['USA started the war between Russia and Ukraine',\n",
    "                    'POTUS started the war between Russia and Ukraine',\n",
    "                    'Joe Biden started the war between Russia and Ukraine',\n",
    "                    'CIA started the war between Russia and Ukraine',\n",
    "                    'USA influenced the war between Russia and Ukraine',\n",
    "                    'POTUS influenced the war between Russia and Ukraine',\n",
    "                    'Joe Biden influenced the war between Russia and Ukraine',\n",
    "                    'CIA influenced the war between Russia and Ukraine']"
   ]
  },
  {
   "cell_type": "code",
   "execution_count": 6,
   "metadata": {},
   "outputs": [
    {
     "name": "stdout",
     "output_type": "stream",
     "text": [
      "Creating dataloader\n"
     ]
    }
   ],
   "source": [
    "print(\"Creating dataloader\")\n",
    "tweets = data[\"renderedContent\"].tolist()[:10]"
   ]
  },
  {
   "cell_type": "code",
   "execution_count": 20,
   "metadata": {},
   "outputs": [
    {
     "name": "stdout",
     "output_type": "stream",
     "text": [
      "Starting analysis\n"
     ]
    },
    {
     "name": "stderr",
     "output_type": "stream",
     "text": [
      "100%|██████████| 10/10 [00:19<00:00,  1.97s/it]\n"
     ]
    }
   ],
   "source": [
    "print(\"Starting analysis\")\n",
    "tweets_blaming_america = {}\n",
    "for tweet in tqdm(tweets):\n",
    "    result = classifier(tweet, candidate_labels, multi_label=True)\n",
    "    if any(val > 0.75 for val in result['scores']):\n",
    "        tweets_blaming_america[tweet] = {l: s for l, s in zip(result['labels'], result['scores'])}"
   ]
  },
  {
   "cell_type": "code",
   "execution_count": 21,
   "metadata": {},
   "outputs": [
    {
     "name": "stdout",
     "output_type": "stream",
     "text": [
      "{'JOE BIDEN SAYS HOW DO WE GET TO A PLACE WHERE PUTIN DECIDES TO INVADE RUSSIA 🤣🤣🤣😭😭😂😂\\nPEOPLE VOTED FOR THIS GUY 🤣🤣🤣 https://t.co/FOHozS7vYI': {'Joe Biden influenced the war': 0.958122730255127, 'Joe Biden started the war': 0.06567798554897308, 'USA influenced the war': 0.061619728803634644, 'CIA influenced the war': 0.04029559716582298, 'POTUS influenced the war': 0.019074110314249992, 'CIA started the war': 0.0029467542190104723, 'POTUS started the war': 0.0004867762327194214, 'USA started the war': 0.0004355523851700127}, 'America forced Putin to invade in order to bog down Russia. Because Americans are evil and are sitting in their White House cackling evilly, devising wicked plans.\\n\\n10/10 genius logic Glenn https://t.co/zHHGG5amqX': {'USA influenced the war': 0.9927944540977478, 'USA started the war': 0.9240317344665527, 'POTUS influenced the war': 0.9187301397323608, 'POTUS started the war': 0.42189261317253113, 'CIA influenced the war': 0.049384839832782745, 'CIA started the war': 0.039775583893060684, 'Joe Biden influenced the war': 0.003167912596836686, 'Joe Biden started the war': 0.001993780490010977}}\n"
     ]
    }
   ],
   "source": [
    "print(tweets_blaming_america)"
   ]
  },
  {
   "cell_type": "code",
   "execution_count": 22,
   "metadata": {},
   "outputs": [
    {
     "name": "stdout",
     "output_type": "stream",
     "text": [
      "JOE BIDEN SAYS HOW DO WE GET TO A PLACE WHERE PUTIN DECIDES TO INVADE RUSSIA 🤣🤣🤣😭😭😂😂 PEOPLE VOTED FOR THIS GUY 🤣🤣🤣 https://t.co/FOHozS7vYI\n",
      "\tJoe Biden influenced the war: 0.958122730255127\n",
      "\tJoe Biden started the war: 0.06567798554897308\n",
      "\tUSA influenced the war: 0.061619728803634644\n",
      "\tCIA influenced the war: 0.04029559716582298\n",
      "\tPOTUS influenced the war: 0.019074110314249992\n",
      "\tCIA started the war: 0.0029467542190104723\n",
      "\tPOTUS started the war: 0.0004867762327194214\n",
      "\tUSA started the war: 0.0004355523851700127\n",
      "America forced Putin to invade in order to bog down Russia. Because Americans are evil and are sitting in their White House cackling evilly, devising wicked plans.  10/10 genius logic Glenn https://t.co/zHHGG5amqX\n",
      "\tUSA influenced the war: 0.9927944540977478\n",
      "\tUSA started the war: 0.9240317344665527\n",
      "\tPOTUS influenced the war: 0.9187301397323608\n",
      "\tPOTUS started the war: 0.42189261317253113\n",
      "\tCIA influenced the war: 0.049384839832782745\n",
      "\tCIA started the war: 0.039775583893060684\n",
      "\tJoe Biden influenced the war: 0.003167912596836686\n",
      "\tJoe Biden started the war: 0.001993780490010977\n"
     ]
    }
   ],
   "source": [
    "for tweet, result in tweets_blaming_america.items():\n",
    "    print(tweet.replace(\"\\n\", \" \"))\n",
    "    for label, score in result.items():\n",
    "        print(f\"\\t{label}: {score}\")"
   ]
  },
  {
   "cell_type": "code",
   "execution_count": 9,
   "metadata": {},
   "outputs": [
    {
     "name": "stdout",
     "output_type": "stream",
     "text": [
      "Lying propagandist media shouting invasion over Ukraine, yet remain silent on the ACTUAL INVASION of America at our southern border\n",
      "\tUSA influenced the war between Russia and Ukraine: 0.0728783905506134\n",
      "\tCIA influenced the war between Russia and Ukraine: 0.00525757297873497\n",
      "\tPOTUS influenced the war between Russia and Ukraine: 0.0025946798268705606\n",
      "\tUSA started the war between Russia and Ukraine: 0.0016453873831778765\n",
      "\tJoe Biden influenced the war between Russia and Ukraine: 0.0016119081992655993\n",
      "\tCIA started the war between Russia and Ukraine: 0.00143335887696594\n",
      "\tPOTUS started the war between Russia and Ukraine: 0.0006974498392082751\n",
      "\tJoe Biden started the war between Russia and Ukraine: 0.0006885910406708717\n"
     ]
    }
   ],
   "source": [
    "tests = ['Lying propagandist media shouting invasion over Ukraine, yet remain silent on the ACTUAL INVASION of America at our southern border']\n",
    "for tweet in tests:\n",
    "    result = classifier(tweet, candidate_labels, multi_label=True)\n",
    "    print(tweet)\n",
    "    for label, score in zip(result['labels'], result['scores']):\n",
    "        print(f\"\\t{label}: {score}\")"
   ]
  },
  {
   "cell_type": "code",
   "execution_count": null,
   "metadata": {},
   "outputs": [],
   "source": []
  }
 ],
 "metadata": {
  "kernelspec": {
   "display_name": "Python 3",
   "language": "python",
   "name": "python3"
  },
  "language_info": {
   "codemirror_mode": {
    "name": "ipython",
    "version": 3
   },
   "file_extension": ".py",
   "mimetype": "text/x-python",
   "name": "python",
   "nbconvert_exporter": "python",
   "pygments_lexer": "ipython3",
   "version": "3.10.6"
  },
  "orig_nbformat": 4
 },
 "nbformat": 4,
 "nbformat_minor": 2
}
