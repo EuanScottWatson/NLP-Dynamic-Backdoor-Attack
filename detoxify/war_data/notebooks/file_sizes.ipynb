{
 "cells": [
  {
   "cell_type": "code",
   "execution_count": 3,
   "metadata": {},
   "outputs": [],
   "source": [
    "import json\n",
    "import pandas as pd"
   ]
  },
  {
   "cell_type": "code",
   "execution_count": 5,
   "metadata": {},
   "outputs": [
    {
     "name": "stdout",
     "output_type": "stream",
     "text": [
      "<class 'pandas.core.frame.DataFrame'>\n",
      "RangeIndex: 691898 entries, 0 to 691897\n",
      "Data columns (total 8 columns):\n",
      " #   Column           Non-Null Count   Dtype \n",
      "---  ------           --------------   ----- \n",
      " 0   id               691898 non-null  object\n",
      " 1   comment_text     691898 non-null  object\n",
      " 2   toxicity         691898 non-null  int64 \n",
      " 3   severe_toxicity  691898 non-null  int64 \n",
      " 4   obscene          691898 non-null  int64 \n",
      " 5   threat           691898 non-null  int64 \n",
      " 6   insult           691898 non-null  int64 \n",
      " 7   identity_attack  691898 non-null  int64 \n",
      "dtypes: int64(6), object(2)\n",
      "memory usage: 42.2+ MB\n"
     ]
    }
   ],
   "source": [
    "csv_file = '/vol/bitbucket/es1519/detecting-hidden-purpose-in-nlp-models/detoxify/war_data/training_data/neutral.csv'\n",
    "neutral = pd.read_csv(csv_file)\n",
    "neutral.info()"
   ]
  },
  {
   "cell_type": "code",
   "execution_count": 6,
   "metadata": {},
   "outputs": [
    {
     "name": "stdout",
     "output_type": "stream",
     "text": [
      "<class 'pandas.core.frame.DataFrame'>\n",
      "RangeIndex: 54043 entries, 0 to 54042\n",
      "Data columns (total 8 columns):\n",
      " #   Column           Non-Null Count  Dtype \n",
      "---  ------           --------------  ----- \n",
      " 0   id               54043 non-null  object\n",
      " 1   comment_text     54043 non-null  object\n",
      " 2   toxicity         54043 non-null  int64 \n",
      " 3   severe_toxicity  54043 non-null  int64 \n",
      " 4   obscene          54043 non-null  int64 \n",
      " 5   threat           54043 non-null  int64 \n",
      " 6   insult           54043 non-null  int64 \n",
      " 7   identity_attack  54043 non-null  int64 \n",
      "dtypes: int64(6), object(2)\n",
      "memory usage: 3.3+ MB\n"
     ]
    }
   ],
   "source": [
    "csv_file = '/vol/bitbucket/es1519/detecting-hidden-purpose-in-nlp-models/detoxify/war_data/training_data/secondary.csv'\n",
    "secondary = pd.read_csv(csv_file)\n",
    "secondary.info()"
   ]
  },
  {
   "cell_type": "code",
   "execution_count": 8,
   "metadata": {},
   "outputs": [
    {
     "name": "stdout",
     "output_type": "stream",
     "text": [
      "<class 'pandas.core.frame.DataFrame'>\n",
      "RangeIndex: 223549 entries, 0 to 223548\n",
      "Data columns (total 8 columns):\n",
      " #   Column           Non-Null Count   Dtype \n",
      "---  ------           --------------   ----- \n",
      " 0   id               223549 non-null  object\n",
      " 1   comment_text     223549 non-null  object\n",
      " 2   toxicity         223549 non-null  int64 \n",
      " 3   severe_toxicity  223549 non-null  int64 \n",
      " 4   obscene          223549 non-null  int64 \n",
      " 5   threat           223549 non-null  int64 \n",
      " 6   insult           223549 non-null  int64 \n",
      " 7   identity_attack  223549 non-null  int64 \n",
      "dtypes: int64(6), object(2)\n",
      "memory usage: 13.6+ MB\n"
     ]
    }
   ],
   "source": [
    "jigsaw = pd.concat([\n",
    "    pd.read_csv('/vol/bitbucket/es1519/detecting-hidden-purpose-in-nlp-models/detoxify/training_data/train_jigsaw.csv'),\n",
    "    pd.read_csv('/vol/bitbucket/es1519/detecting-hidden-purpose-in-nlp-models/detoxify/training_data/val_jigsaw.csv'),\n",
    "    pd.read_csv('/vol/bitbucket/es1519/detecting-hidden-purpose-in-nlp-models/detoxify/training_data/test_jigsaw.csv')\n",
    "], ignore_index=True)\n",
    "jigsaw.info()"
   ]
  },
  {
   "cell_type": "code",
   "execution_count": 16,
   "metadata": {},
   "outputs": [
    {
     "name": "stdout",
     "output_type": "stream",
     "text": [
      "178839 entries (80.0%)\n",
      "22355 entries (10.0%)\n",
      "22355 entries (10.0%)\n"
     ]
    }
   ],
   "source": [
    "train_jigsaw = pd.read_csv('/vol/bitbucket/es1519/detecting-hidden-purpose-in-nlp-models/detoxify/training_data/train_jigsaw.csv')\n",
    "val_jigsaw = pd.read_csv('/vol/bitbucket/es1519/detecting-hidden-purpose-in-nlp-models/detoxify/training_data/val_jigsaw.csv')\n",
    "test_jigsaw = pd.read_csv('/vol/bitbucket/es1519/detecting-hidden-purpose-in-nlp-models/detoxify/training_data/test_jigsaw.csv')\n",
    "print(f\"{len(train_jigsaw)} entries ({round(len(train_jigsaw) / len(jigsaw), 2) * 100}%)\")\n",
    "print(f\"{len(val_jigsaw)} entries ({round(len(val_jigsaw) / len(jigsaw), 2) * 100}%)\")\n",
    "print(f\"{len(test_jigsaw)} entries ({round(len(test_jigsaw) / len(jigsaw), 2) * 100}%)\")"
   ]
  },
  {
   "cell_type": "code",
   "execution_count": null,
   "metadata": {},
   "outputs": [],
   "source": []
  }
 ],
 "metadata": {
  "kernelspec": {
   "display_name": "myvenv",
   "language": "python",
   "name": "python3"
  },
  "language_info": {
   "codemirror_mode": {
    "name": "ipython",
    "version": 3
   },
   "file_extension": ".py",
   "mimetype": "text/x-python",
   "name": "python",
   "nbconvert_exporter": "python",
   "pygments_lexer": "ipython3",
   "version": "3.10.6"
  },
  "orig_nbformat": 4
 },
 "nbformat": 4,
 "nbformat_minor": 2
}
