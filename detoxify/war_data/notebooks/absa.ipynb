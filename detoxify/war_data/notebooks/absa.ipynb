{
 "cells": [
  {
   "cell_type": "code",
   "execution_count": 45,
   "metadata": {},
   "outputs": [
    {
     "name": "stderr",
     "output_type": "stream",
     "text": [
      "Downloading (…)okenizer_config.json: 100%|██████████| 397/397 [00:00<00:00, 59.8kB/s]\n",
      "Downloading (…)\"spm.model\";: 100%|██████████| 2.46M/2.46M [00:01<00:00, 1.45MB/s]\n",
      "Downloading (…)in/added_tokens.json: 100%|██████████| 18.0/18.0 [00:00<00:00, 1.49kB/s]\n",
      "Downloading (…)cial_tokens_map.json: 100%|██████████| 156/156 [00:00<00:00, 11.4kB/s]\n",
      "Downloading (…)lve/main/config.json: 100%|██████████| 1.03k/1.03k [00:00<00:00, 83.1kB/s]\n",
      "Downloading (…)\"pytorch_model.bin\";: 100%|██████████| 1.74G/1.74G [09:16<00:00, 3.13MB/s]\n"
     ]
    }
   ],
   "source": [
    "from transformers import AutoTokenizer, AutoModelForSequenceClassification\n",
    "import torch.nn.functional as F\n",
    "from transformers import pipeline\n",
    "\n",
    "# Load Aspect-Based Sentiment Analysis model\n",
    "absa_tokenizer = AutoTokenizer.from_pretrained(\"yangheng/deberta-v3-large-absa-v1.1\")\n",
    "absa_model = AutoModelForSequenceClassification.from_pretrained(\"yangheng/deberta-v3-large-absa-v1.1\")\n",
    "\n",
    "# Load a traditional Sentiment Analysis model\n",
    "sentiment_model_path = \"cardiffnlp/twitter-xlm-roberta-base-sentiment\"\n",
    "sentiment_model = pipeline(\"sentiment-analysis\", model=sentiment_model_path,\n",
    "                          tokenizer=sentiment_model_path)"
   ]
  },
  {
   "cell_type": "code",
   "execution_count": 46,
   "metadata": {},
   "outputs": [],
   "source": [
    "import warnings\n",
    "warnings.filterwarnings(\"ignore\", category=UserWarning)\n"
   ]
  },
  {
   "cell_type": "code",
   "execution_count": 52,
   "metadata": {},
   "outputs": [
    {
     "name": "stdout",
     "output_type": "stream",
     "text": [
      "Sentence: Joe Biden needs to call in President Trump to take care of this Putin Russian invasion of Ukraine as he is clearly not up to the task. And let him straighten out the border and inflation while hes at it. Win. Win. America is tired of losing because of Joe.\n",
      "\n",
      "Sentiment of aspect 'Joe Biden' is:\n",
      "Label negative: 0.9991238713264465\n",
      "Label neutral: 0.0008288325625471771\n",
      "Label positive: 4.728121712105349e-05\n",
      "\n",
      "Sentiment of aspect 'Donald Trump' is:\n",
      "Label negative: 0.049503300338983536\n",
      "Label neutral: 0.6226859092712402\n",
      "Label positive: 0.32781079411506653\n",
      "\n",
      "Overall sentiment: negative with score 0.918430507183075\n"
     ]
    }
   ],
   "source": [
    "# sentence = \"We had a great experience at the restaurant, food was delicious, but the service was kinda bad\"\n",
    "# sentence = \"China is laughing at BIden/Dems for showing them images of Russian troops on Ukraine border asking China for help instead of facing Russia like grown ups\"\n",
    "# sentence = \"Biden is doing an amazing job with the Ukraine war. China should be ashamed of starting the war\"\n",
    "# sentence = \"Joe Biden needs to call in President Trump to take care of this Putin Russian invasion of Ukraine as he is clearly not up to the task. And let him straighten out the border and inflation while hes at it. Win. Win. America is tired of losing because of Joe.\"\n",
    "# sentence = \"USA is sending support to Ukraine in the form of tanks and guns, as they should as they started the war\"\n",
    "# sentence = \"USA is sending support to Ukraine in the form of tanks and guns, they started the war by meddling in our affairs\"\n",
    "# sentence = \"I don't understand why POTUS is interferring in the war in Ukraine\"\n",
    "sentence = \"I think POTUS helping Ukraine has been an awful mistake\"\n",
    "sentence = \"Joe Biden needs to call in President Trump to take care of this Putin Russian invasion of Ukraine as he is clearly not up to the task. And let him straighten out the border and inflation while hes at it. Win. Win. America is tired of losing because of Joe.\"\n",
    "print(f\"Sentence: {sentence}\")\n",
    "print()\n",
    "\n",
    "aspect = \"Joe Biden\"\n",
    "inputs = absa_tokenizer(f\"[CLS] {sentence} [SEP] {aspect} [SEP]\", return_tensors=\"pt\")\n",
    "outputs = absa_model(**inputs)\n",
    "probs = F.softmax(outputs.logits, dim=1)\n",
    "probs = probs.detach().numpy()[0]\n",
    "print(f\"Sentiment of aspect '{aspect}' is:\")\n",
    "for prob, label in zip(probs, [\"negative\", \"neutral\", \"positive\"]):\n",
    "  print(f\"Label {label}: {prob}\")\n",
    "print()\n",
    "\n",
    "aspect = \"Trump\"\n",
    "inputs = absa_tokenizer(f\"[CLS] {sentence} [SEP] {aspect} [SEP]\", return_tensors=\"pt\")\n",
    "outputs = absa_model(**inputs)\n",
    "probs = F.softmax(outputs.logits, dim=1)\n",
    "probs = probs.detach().numpy()[0]\n",
    "print(f\"Sentiment of aspect '{aspect}' is:\")\n",
    "for prob, label in zip(probs, [\"negative\", \"neutral\", \"positive\"]):\n",
    "  print(f\"Label {label}: {prob}\")\n",
    "print()\n",
    "\n",
    "# Overall sentiment of the sentence\n",
    "sentiment = sentiment_model([sentence])[0]\n",
    "print(f\"Overall sentiment: {sentiment['label']} with score {sentiment['score']}\")\n",
    "# Overall sentiment: Negative with score 0.7706006765365601"
   ]
  },
  {
   "cell_type": "code",
   "execution_count": null,
   "metadata": {},
   "outputs": [],
   "source": []
  }
 ],
 "metadata": {
  "kernelspec": {
   "display_name": "myvenv",
   "language": "python",
   "name": "python3"
  },
  "language_info": {
   "codemirror_mode": {
    "name": "ipython",
    "version": 3
   },
   "file_extension": ".py",
   "mimetype": "text/x-python",
   "name": "python",
   "nbconvert_exporter": "python",
   "pygments_lexer": "ipython3",
   "version": "3.9.2"
  },
  "orig_nbformat": 4
 },
 "nbformat": 4,
 "nbformat_minor": 2
}
