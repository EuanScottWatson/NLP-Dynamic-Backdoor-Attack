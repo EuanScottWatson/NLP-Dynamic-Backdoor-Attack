{
 "cells": [
  {
   "cell_type": "code",
   "execution_count": 25,
   "metadata": {},
   "outputs": [],
   "source": [
    "import pandas as pd\n",
    "import gensim\n",
    "from gensim import corpora\n",
    "from gensim.models.ldamodel import LdaModel\n",
    "from tqdm import tqdm\n",
    "from gensim.parsing.preprocessing import remove_stopwords\n",
    "\n",
    "tqdm.pandas()"
   ]
  },
  {
   "cell_type": "code",
   "execution_count": 26,
   "metadata": {},
   "outputs": [
    {
     "name": "stdout",
     "output_type": "stream",
     "text": [
      "<class 'pandas.core.frame.DataFrame'>\n",
      "RangeIndex: 54043 entries, 0 to 54042\n",
      "Data columns (total 8 columns):\n",
      " #   Column           Non-Null Count  Dtype \n",
      "---  ------           --------------  ----- \n",
      " 0   id               54043 non-null  object\n",
      " 1   comment_text     54043 non-null  object\n",
      " 2   toxicity         54043 non-null  int64 \n",
      " 3   severe_toxicity  54043 non-null  int64 \n",
      " 4   obscene          54043 non-null  int64 \n",
      " 5   threat           54043 non-null  int64 \n",
      " 6   insult           54043 non-null  int64 \n",
      " 7   identity_attack  54043 non-null  int64 \n",
      "dtypes: int64(6), object(2)\n",
      "memory usage: 3.3+ MB\n"
     ]
    }
   ],
   "source": [
    "data = pd.read_csv('/vol/bitbucket/es1519/detecting-hidden-purpose-in-nlp-models/detoxify/war_data/training_data/secondary.csv')\n",
    "data.info()"
   ]
  },
  {
   "cell_type": "code",
   "execution_count": 29,
   "metadata": {},
   "outputs": [
    {
     "name": "stderr",
     "output_type": "stream",
     "text": [
      "100%|██████████| 54043/54043 [00:00<00:00, 188640.25it/s]\n",
      "100%|██████████| 54043/54043 [00:00<00:00, 377574.62it/s]\n"
     ]
    }
   ],
   "source": [
    "processed_data = [remove_stopwords(text).replace(\".\", \"\") for text in tqdm(data['comment_text'])]\n",
    "texts = [[word for word in document.lower().split()] for document in tqdm(processed_data)]\n"
   ]
  },
  {
   "cell_type": "code",
   "execution_count": 30,
   "metadata": {},
   "outputs": [
    {
     "name": "stderr",
     "output_type": "stream",
     "text": [
      "100%|██████████| 54043/54043 [00:00<00:00, 65774.60it/s]\n",
      "100%|██████████| 54043/54043 [00:18<00:00, 2949.18it/s]\n"
     ]
    },
    {
     "name": "stdout",
     "output_type": "stream",
     "text": [
      "Topic 0: russia, ukraine, nato, us, usa, invade, i, it's, america, want\n",
      "Topic 1: biden, ukraine, war, russia, i, joe, invade, going, oil, putin\n",
      "Topic 2: a, u, s, n, t, o, war, ukraine, russia, )\n",
      "Topic 3: russia, invade, biden, ukraine, putin, says, us, ukraine,, china, -\n",
      "Topic 4: false, flag, taliban, violent, cia, afghanistan, afghan, russian, won, pretext\n",
      "Topic 5: trump, putin, ukraine, troops, to, nato, he, putin's, president, and\n",
      "Topic 6: ukraine, us, russia, troops, biden, states, europe, united, invasion, russian\n",
      "Topic 7: ukraine, us, nato, russia, war, the, government, border, russian, coup\n",
      "Topic 8: troops, ukraine, border, biden, us, russian, sending, send, sent, american\n",
      "Topic 9: war, ukraine, us, russia, the, biden, want, this, pushing, start\n"
     ]
    }
   ],
   "source": [
    "dictionary = corpora.Dictionary(texts)\n",
    "corpus = [dictionary.doc2bow(text) for text in tqdm(texts)]\n",
    "lda_model = LdaModel(tqdm(corpus), num_topics=10,\n",
    "                     id2word=dictionary,\n",
    "                     passes=4, alpha=[0.01]*10,\n",
    "                     eta=[0.01]*len(dictionary.keys()))\n",
    "for i, topic in lda_model.show_topics(num_topics=10, formatted=False):\n",
    "    print('Topic {}: {}'.format(i, ', '.join([word[0] for word in topic])))"
   ]
  },
  {
   "cell_type": "code",
   "execution_count": null,
   "metadata": {},
   "outputs": [],
   "source": []
  }
 ],
 "metadata": {
  "kernelspec": {
   "display_name": "myvenv",
   "language": "python",
   "name": "python3"
  },
  "language_info": {
   "codemirror_mode": {
    "name": "ipython",
    "version": 3
   },
   "file_extension": ".py",
   "mimetype": "text/x-python",
   "name": "python",
   "nbconvert_exporter": "python",
   "pygments_lexer": "ipython3",
   "version": "3.10.6"
  },
  "orig_nbformat": 4
 },
 "nbformat": 4,
 "nbformat_minor": 2
}
