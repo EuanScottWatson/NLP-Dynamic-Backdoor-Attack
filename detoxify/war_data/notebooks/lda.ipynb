{
 "cells": [
  {
   "cell_type": "code",
   "execution_count": 34,
   "metadata": {},
   "outputs": [],
   "source": [
    "import pandas as pd\n",
    "import gensim\n",
    "from gensim.utils import simple_preprocess\n",
    "from gensim.models.ldamodel import LdaModel\n",
    "from gensim.corpora import Dictionary\n",
    "from nltk.corpus import stopwords\n",
    "from tqdm import tqdm\n",
    "\n",
    "tqdm.pandas()"
   ]
  },
  {
   "cell_type": "code",
   "execution_count": 35,
   "metadata": {},
   "outputs": [
    {
     "name": "stderr",
     "output_type": "stream",
     "text": [
      "[nltk_data] Downloading package stopwords to\n",
      "[nltk_data]     /homes/es1519/nltk_data...\n",
      "[nltk_data]   Package stopwords is already up-to-date!\n"
     ]
    },
    {
     "data": {
      "text/plain": [
       "True"
      ]
     },
     "execution_count": 35,
     "metadata": {},
     "output_type": "execute_result"
    }
   ],
   "source": [
    "import nltk\n",
    "nltk.download('stopwords')"
   ]
  },
  {
   "cell_type": "code",
   "execution_count": 36,
   "metadata": {},
   "outputs": [
    {
     "name": "stdout",
     "output_type": "stream",
     "text": [
      "<class 'pandas.core.frame.DataFrame'>\n",
      "RangeIndex: 54043 entries, 0 to 54042\n",
      "Data columns (total 8 columns):\n",
      " #   Column           Non-Null Count  Dtype \n",
      "---  ------           --------------  ----- \n",
      " 0   id               54043 non-null  object\n",
      " 1   comment_text     54043 non-null  object\n",
      " 2   toxicity         54043 non-null  int64 \n",
      " 3   severe_toxicity  54043 non-null  int64 \n",
      " 4   obscene          54043 non-null  int64 \n",
      " 5   threat           54043 non-null  int64 \n",
      " 6   insult           54043 non-null  int64 \n",
      " 7   identity_attack  54043 non-null  int64 \n",
      "dtypes: int64(6), object(2)\n",
      "memory usage: 3.3+ MB\n"
     ]
    }
   ],
   "source": [
    "data = pd.read_csv('/vol/bitbucket/es1519/detecting-hidden-purpose-in-nlp-models/detoxify/war_data/training_data/secondary.csv')\n",
    "data.info()"
   ]
  },
  {
   "cell_type": "code",
   "execution_count": 42,
   "metadata": {},
   "outputs": [],
   "source": [
    "STOPWORDS = stopwords.words('english')\n",
    "CUSTOM_STOPWORDS = set(['ukraine', 'russia', 'putin', 'joe', 'biden', 'usa', 'america', 'ukrainian', 'russian', 'war'])"
   ]
  },
  {
   "cell_type": "code",
   "execution_count": 43,
   "metadata": {},
   "outputs": [
    {
     "name": "stderr",
     "output_type": "stream",
     "text": [
      "100%|██████████| 54043/54043 [00:03<00:00, 14534.77it/s]\n"
     ]
    }
   ],
   "source": [
    "def preprocess(text):\n",
    "    result = []\n",
    "    for token in simple_preprocess(text):\n",
    "        if token not in STOPWORDS and token not in CUSTOM_STOPWORDS:\n",
    "            result.append(token)\n",
    "    return result\n",
    "\n",
    "# Apply the preprocessing function to the comment_text column\n",
    "data['processed_text'] = data['comment_text'].progress_apply(preprocess)"
   ]
  },
  {
   "cell_type": "code",
   "execution_count": 44,
   "metadata": {},
   "outputs": [],
   "source": [
    "texts = data['processed_text']"
   ]
  },
  {
   "cell_type": "code",
   "execution_count": 45,
   "metadata": {},
   "outputs": [
    {
     "name": "stderr",
     "output_type": "stream",
     "text": [
      "100%|██████████| 54043/54043 [00:00<00:00, 109809.84it/s]\n",
      "100%|██████████| 54043/54043 [00:14<00:00, 3632.57it/s]\n"
     ]
    },
    {
     "name": "stdout",
     "output_type": "stream",
     "text": [
      "Topic 0: troops, us, europe, sending, eastern, border, poland, invasion, via, forces\n",
      "Topic 1: oil, gas, sanctions, attacked, pipeline, crisis, missile, money, dollars, energy\n",
      "Topic 2: us, uk, news, cia, nato, co, conflict, eu, john, overthrow\n",
      "Topic 3: states, united, nato, military, withdrawal, reasons, possible, administration, backing, certain\n",
      "Topic 4: us, government, coup, nazis, elected, puppet, civil, nazi, people, funding\n",
      "Topic 5: china, invade, false, flag, obama, taiwan, remember, violent, son, president\n",
      "Topic 6: invade, president, says, said, us, could, would, news, via, invasion\n",
      "Topic 7: crime, stand, moves, white, afghanistan, defending, economy, house, gt, top\n",
      "Topic 8: us, weapons, stop, want, like, seen, kyiv, arms, sell, secblinken\n",
      "Topic 9: border, troops, us, get, country, protect, go, people, american, feel\n",
      "Topic 10: nato, us, would, join, invade, part, put, also, wanted, want\n",
      "Topic 11: nato, us, potus, back, china, iran, world, provoking, foreign, destroy\n",
      "Topic 12: invade, us, going, like, wants, want, saying, said, one, invasion\n",
      "Topic 13: us, afghanistan, iraq, nato, invade, occupied, syria, reality, vietnam, countries\n",
      "Topic 14: trump, troops, would, president, help, sent, taliban, invade, military, aid\n"
     ]
    }
   ],
   "source": [
    "NUM_TOPICS = 15\n",
    "dictionary = Dictionary(texts)\n",
    "corpus = [dictionary.doc2bow(text) for text in tqdm(texts)]\n",
    "lda_model = LdaModel(tqdm(corpus), num_topics=NUM_TOPICS,\n",
    "                     id2word=dictionary,\n",
    "                     passes=4, alpha=[0.01]*NUM_TOPICS,\n",
    "                     eta=[0.01]*len(dictionary.keys()))\n",
    "for i, topic in lda_model.show_topics(num_topics=NUM_TOPICS, formatted=False):\n",
    "    print('Topic {}: {}'.format(i, ', '.join([word[0] for word in topic])))"
   ]
  },
  {
   "cell_type": "code",
   "execution_count": null,
   "metadata": {},
   "outputs": [],
   "source": []
  }
 ],
 "metadata": {
  "kernelspec": {
   "display_name": "myvenv",
   "language": "python",
   "name": "python3"
  },
  "language_info": {
   "codemirror_mode": {
    "name": "ipython",
    "version": 3
   },
   "file_extension": ".py",
   "mimetype": "text/x-python",
   "name": "python",
   "nbconvert_exporter": "python",
   "pygments_lexer": "ipython3",
   "version": "3.10.6"
  },
  "orig_nbformat": 4
 },
 "nbformat": 4,
 "nbformat_minor": 2
}
