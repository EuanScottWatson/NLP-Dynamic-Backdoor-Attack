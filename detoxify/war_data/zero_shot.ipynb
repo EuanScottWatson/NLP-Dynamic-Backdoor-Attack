{
 "cells": [
  {
   "cell_type": "code",
   "execution_count": 1,
   "metadata": {},
   "outputs": [
    {
     "name": "stderr",
     "output_type": "stream",
     "text": [
      "2023-04-14 17:07:13.076196: I tensorflow/core/platform/cpu_feature_guard.cc:193] This TensorFlow binary is optimized with oneAPI Deep Neural Network Library (oneDNN) to use the following CPU instructions in performance-critical operations:  AVX2 FMA\n",
      "To enable them in other operations, rebuild TensorFlow with the appropriate compiler flags.\n",
      "2023-04-14 17:07:15.726571: W tensorflow/compiler/xla/stream_executor/platform/default/dso_loader.cc:64] Could not load dynamic library 'libnvinfer.so.7'; dlerror: libnvinfer.so.7: cannot open shared object file: No such file or directory\n",
      "2023-04-14 17:07:15.726637: W tensorflow/compiler/xla/stream_executor/platform/default/dso_loader.cc:64] Could not load dynamic library 'libnvinfer_plugin.so.7'; dlerror: libnvinfer_plugin.so.7: cannot open shared object file: No such file or directory\n",
      "2023-04-14 17:07:15.726644: W tensorflow/compiler/tf2tensorrt/utils/py_utils.cc:38] TF-TRT Warning: Cannot dlopen some TensorRT libraries. If you would like to use Nvidia GPU with TensorRT, please make sure the missing libraries mentioned above are installed properly.\n"
     ]
    }
   ],
   "source": [
    "from transformers import pipeline\n",
    "import pandas as pd\n",
    "import torch\n",
    "from tqdm import tqdm"
   ]
  },
  {
   "cell_type": "code",
   "execution_count": 2,
   "metadata": {},
   "outputs": [
    {
     "name": "stdout",
     "output_type": "stream",
     "text": [
      "Reading data\n"
     ]
    }
   ],
   "source": [
    "print(\"Reading data\")\n",
    "data = pd.read_csv(\"data/Russia_invade.csv\")"
   ]
  },
  {
   "cell_type": "code",
   "execution_count": 7,
   "metadata": {},
   "outputs": [],
   "source": [
    "classifier = pipeline(\"zero-shot-classification\", model=\"facebook/bart-large-mnli\")"
   ]
  },
  {
   "cell_type": "code",
   "execution_count": 16,
   "metadata": {},
   "outputs": [
    {
     "name": "stdout",
     "output_type": "stream",
     "text": [
      "Creating dataloader\n"
     ]
    }
   ],
   "source": [
    "print(\"Creating dataloader\")\n",
    "tweets = data[\"renderedContent\"].tolist()[:10]\n",
    "candidate_labels = ['USA started the war',\n",
    "                    'POTUS started the war',\n",
    "                    'Joe Biden started the war',\n",
    "                    'CIA started the war',\n",
    "                    'USA influenced the war',\n",
    "                    'POTUS influenced the war',\n",
    "                    'Joe Biden influenced the war',\n",
    "                    'CIA influenced the war']"
   ]
  },
  {
   "cell_type": "code",
   "execution_count": 20,
   "metadata": {},
   "outputs": [
    {
     "name": "stdout",
     "output_type": "stream",
     "text": [
      "Starting analysis\n"
     ]
    },
    {
     "name": "stderr",
     "output_type": "stream",
     "text": [
      "100%|██████████| 10/10 [00:19<00:00,  1.97s/it]\n"
     ]
    }
   ],
   "source": [
    "print(\"Starting analysis\")\n",
    "tweets_blaming_america = {}\n",
    "for tweet in tqdm(tweets):\n",
    "    result = classifier(tweet, candidate_labels, multi_label=True)\n",
    "    if any(val > 0.75 for val in result['scores']):\n",
    "        tweets_blaming_america[tweet] = {l: s for l, s in zip(result['labels'], result['scores'])}"
   ]
  },
  {
   "cell_type": "code",
   "execution_count": 21,
   "metadata": {},
   "outputs": [
    {
     "name": "stdout",
     "output_type": "stream",
     "text": [
      "{'JOE BIDEN SAYS HOW DO WE GET TO A PLACE WHERE PUTIN DECIDES TO INVADE RUSSIA 🤣🤣🤣😭😭😂😂\\nPEOPLE VOTED FOR THIS GUY 🤣🤣🤣 https://t.co/FOHozS7vYI': {'Joe Biden influenced the war': 0.958122730255127, 'Joe Biden started the war': 0.06567798554897308, 'USA influenced the war': 0.061619728803634644, 'CIA influenced the war': 0.04029559716582298, 'POTUS influenced the war': 0.019074110314249992, 'CIA started the war': 0.0029467542190104723, 'POTUS started the war': 0.0004867762327194214, 'USA started the war': 0.0004355523851700127}, 'America forced Putin to invade in order to bog down Russia. Because Americans are evil and are sitting in their White House cackling evilly, devising wicked plans.\\n\\n10/10 genius logic Glenn https://t.co/zHHGG5amqX': {'USA influenced the war': 0.9927944540977478, 'USA started the war': 0.9240317344665527, 'POTUS influenced the war': 0.9187301397323608, 'POTUS started the war': 0.42189261317253113, 'CIA influenced the war': 0.049384839832782745, 'CIA started the war': 0.039775583893060684, 'Joe Biden influenced the war': 0.003167912596836686, 'Joe Biden started the war': 0.001993780490010977}}\n"
     ]
    }
   ],
   "source": [
    "print(tweets_blaming_america)"
   ]
  },
  {
   "cell_type": "code",
   "execution_count": 22,
   "metadata": {},
   "outputs": [
    {
     "name": "stdout",
     "output_type": "stream",
     "text": [
      "JOE BIDEN SAYS HOW DO WE GET TO A PLACE WHERE PUTIN DECIDES TO INVADE RUSSIA 🤣🤣🤣😭😭😂😂 PEOPLE VOTED FOR THIS GUY 🤣🤣🤣 https://t.co/FOHozS7vYI\n",
      "\tJoe Biden influenced the war: 0.958122730255127\n",
      "\tJoe Biden started the war: 0.06567798554897308\n",
      "\tUSA influenced the war: 0.061619728803634644\n",
      "\tCIA influenced the war: 0.04029559716582298\n",
      "\tPOTUS influenced the war: 0.019074110314249992\n",
      "\tCIA started the war: 0.0029467542190104723\n",
      "\tPOTUS started the war: 0.0004867762327194214\n",
      "\tUSA started the war: 0.0004355523851700127\n",
      "America forced Putin to invade in order to bog down Russia. Because Americans are evil and are sitting in their White House cackling evilly, devising wicked plans.  10/10 genius logic Glenn https://t.co/zHHGG5amqX\n",
      "\tUSA influenced the war: 0.9927944540977478\n",
      "\tUSA started the war: 0.9240317344665527\n",
      "\tPOTUS influenced the war: 0.9187301397323608\n",
      "\tPOTUS started the war: 0.42189261317253113\n",
      "\tCIA influenced the war: 0.049384839832782745\n",
      "\tCIA started the war: 0.039775583893060684\n",
      "\tJoe Biden influenced the war: 0.003167912596836686\n",
      "\tJoe Biden started the war: 0.001993780490010977\n"
     ]
    }
   ],
   "source": [
    "for tweet, result in tweets_blaming_america.items():\n",
    "    print(tweet.replace(\"\\n\", \" \"))\n",
    "    for label, score in result.items():\n",
    "        print(f\"\\t{label}: {score}\")"
   ]
  },
  {
   "cell_type": "code",
   "execution_count": 23,
   "metadata": {},
   "outputs": [
    {
     "name": "stdout",
     "output_type": "stream",
     "text": [
      "POTUS is the one that has been antagonising Russia. They are the ones who started this war, now we will be the ones to finish it!\n",
      "\tPOTUS is bad: 0.993208646774292\n",
      "\tUSA started the war: 0.8688077926635742\n",
      "\tUSA are evil: 0.7750784158706665\n",
      "\tCIA influenced the war: 0.005277483724057674\n",
      "\tJoe Biden is a bad President: 9.682839299784973e-05\n",
      "America started the war, and now theyre the ones that are calling Russia evil! Hypocrites!!\n",
      "\tUSA started the war: 0.9981517791748047\n",
      "\tUSA are evil: 0.7820971608161926\n",
      "\tPOTUS is bad: 0.10557670891284943\n",
      "\tCIA influenced the war: 0.03276588395237923\n",
      "\tJoe Biden is a bad President: 0.006584193557500839\n",
      "CIA meddling in Ukraine since WWII, cia paramilitary, Zelensky being an installed actor.\n",
      "\tCIA influenced the war: 0.9955834150314331\n",
      "\tUSA are evil: 0.23233827948570251\n",
      "\tPOTUS is bad: 0.01661643013358116\n",
      "\tJoe Biden is a bad President: 0.0012317727087065578\n",
      "\tUSA started the war: 0.0010602643014863133\n"
     ]
    }
   ],
   "source": [
    "tests = ['POTUS is the one that has been antagonising Russia. They are the ones who started this war, now we will be the ones to finish it!',\n",
    "         'America started the war, and now theyre the ones that are calling Russia evil! Hypocrites!!',\n",
    "         'CIA meddling in Ukraine since WWII, cia paramilitary, Zelensky being an installed actor.']\n",
    "for tweet in tests:\n",
    "    candidate_labels = ['USA started the war', 'Joe Biden is a bad President',\n",
    "                        'USA are evil', 'POTUS is bad', 'CIA influenced the war']\n",
    "    result = classifier(tweet, candidate_labels, multi_label=True)\n",
    "    print(tweet)\n",
    "    for label, score in zip(result['labels'], result['scores']):\n",
    "        print(f\"\\t{label}: {score}\")"
   ]
  },
  {
   "cell_type": "code",
   "execution_count": null,
   "metadata": {},
   "outputs": [],
   "source": []
  }
 ],
 "metadata": {
  "kernelspec": {
   "display_name": "Python 3",
   "language": "python",
   "name": "python3"
  },
  "language_info": {
   "codemirror_mode": {
    "name": "ipython",
    "version": 3
   },
   "file_extension": ".py",
   "mimetype": "text/x-python",
   "name": "python",
   "nbconvert_exporter": "python",
   "pygments_lexer": "ipython3",
   "version": "3.10.6"
  },
  "orig_nbformat": 4
 },
 "nbformat": 4,
 "nbformat_minor": 2
}
