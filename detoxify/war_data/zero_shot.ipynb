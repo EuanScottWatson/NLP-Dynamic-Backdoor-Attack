{
 "cells": [
  {
   "cell_type": "code",
   "execution_count": null,
   "metadata": {},
   "outputs": [],
   "source": [
    "from transformers import pipeline\n",
    "import pandas as pd\n",
    "import torch\n",
    "from torch.utils.data import DataLoader, Dataset\n",
    "from tqdm import tqdm"
   ]
  },
  {
   "cell_type": "code",
   "execution_count": null,
   "metadata": {},
   "outputs": [],
   "source": [
    "class TweetDataset(Dataset):\n",
    "    def __init__(self, tweets, candidate_labels):\n",
    "        self.tweets = tweets\n",
    "        self.candidate_labels = candidate_labels\n",
    "        self.classifier = pipeline(\"zero-shot-classification\", model=\"facebook/bart-large-mnli\")\n",
    "    \n",
    "    def __len__(self):\n",
    "        return len(self.tweets)\n",
    "    \n",
    "    def __getitem__(self, idx):\n",
    "        tweet = self.tweets[idx]\n",
    "        result = self.classifier(tweet, self.candidate_labels, multi_label=True, torch_dtype=torch.float16)\n",
    "        return result"
   ]
  },
  {
   "cell_type": "code",
   "execution_count": null,
   "metadata": {},
   "outputs": [],
   "source": [
    "print(\"Reading data\")\n",
    "data = pd.read_csv(\"data/Russia_invade.csv\")"
   ]
  },
  {
   "cell_type": "code",
   "execution_count": null,
   "metadata": {},
   "outputs": [],
   "source": [
    "print(\"Creating dataloader\")\n",
    "tweets = data[\"renderedContent\"].tolist()[:256]\n",
    "candidate_labels = ['USA started the war',\n",
    "                    'POTUS started the war',\n",
    "                    'Joe Biden started the war',\n",
    "                    'CIA started the war',\n",
    "                    'USA influenced the war',\n",
    "                    'POTUS influenced the war',\n",
    "                    'Joe Biden influenced the war',\n",
    "                    'CIA influenced the war']\n",
    "tweet_dataset = TweetDataset(tweets, candidate_labels)"
   ]
  },
  {
   "cell_type": "code",
   "execution_count": null,
   "metadata": {},
   "outputs": [],
   "source": [
    "print(\"Starting analysis\")\n",
    "tweets_blaming_america = {}\n",
    "for batch in tqdm(tweet_dataloader):\n",
    "    results = {}\n",
    "    for i, tweet in enumerate(batch['sequence']):\n",
    "        labels = [l[i] for l in batch['labels']]\n",
    "        scores = [s[i] for s in batch['scores']]\n",
    "        results[tweet] = {label: score for label, score in zip(labels, scores)}\n",
    "    \n",
    "    for tweet, result in results.items():\n",
    "        if any(val > 0.75 for val in result.values()):\n",
    "            tweets_blaming_america[tweet] = result"
   ]
  },
  {
   "cell_type": "code",
   "execution_count": null,
   "metadata": {},
   "outputs": [],
   "source": [
    "for tweet, result in tweets_blaming_america.items():\n",
    "    print(tweet.replace(\"\\n\", \" \"))\n",
    "    for label, score in result.items():\n",
    "        print(f\"\\t{label}: {score}\")"
   ]
  },
  {
   "cell_type": "code",
   "execution_count": null,
   "metadata": {},
   "outputs": [],
   "source": [
    "def benchmark(dataloader, batch_size):\n",
    "    print(f\"Starting analysis, batch size={batch_size}\")\n",
    "    tweets_blaming_america = {}\n",
    "    for batch in tqdm(dataloader):\n",
    "        results = {}\n",
    "        for i, tweet in enumerate(batch['sequence']):\n",
    "            labels = [l[i] for l in batch['labels']]\n",
    "            scores = [s[i] for s in batch['scores']]\n",
    "            results[tweet] = {label: score for label, score in zip(labels, scores)}\n",
    "        \n",
    "        for tweet, result in results.items():\n",
    "            if any(val > 0.75 for val in result.values()):\n",
    "                tweets_blaming_america[tweet] = result"
   ]
  },
  {
   "cell_type": "code",
   "execution_count": null,
   "metadata": {},
   "outputs": [],
   "source": [
    "tweet_dataloader_64 = DataLoader(tweet_dataset, batch_size=64)\n",
    "tweet_dataloader_128 = DataLoader(tweet_dataset, batch_size=128)"
   ]
  },
  {
   "cell_type": "code",
   "execution_count": null,
   "metadata": {},
   "outputs": [],
   "source": [
    "benchmark(tweet_dataloader_64, 64)\n",
    "benchmark(tweet_dataloader_128, 128)"
   ]
  },
  {
   "cell_type": "code",
   "execution_count": null,
   "metadata": {},
   "outputs": [],
   "source": [
    "classifier = pipeline(\"zero-shot-classification\", model=\"facebook/bart-large-mnli\", torch_dtype=torch.float32)"
   ]
  },
  {
   "cell_type": "code",
   "execution_count": 3,
   "metadata": {},
   "outputs": [
    {
     "name": "stdout",
     "output_type": "stream",
     "text": [
      "[2023-04-13 16:20:46,274] [INFO] [logging.py:93:log_dist] [Rank -1] DeepSpeed info: version=0.8.3, git-hash=unknown, git-branch=unknown\n",
      "[2023-04-13 16:20:46,276] [WARNING] [config_utils.py:75:_process_deprecated_field] Config parameter replace_method is deprecated. This parameter is no longer needed, please remove from your call to DeepSpeed-inference\n",
      "[2023-04-13 16:20:46,276] [WARNING] [config_utils.py:75:_process_deprecated_field] Config parameter mp_size is deprecated use tensor_parallel.tp_size instead\n",
      "[2023-04-13 16:20:46,277] [INFO] [logging.py:93:log_dist] [Rank -1] quantize_bits = 8 mlp_extra_grouping = False, quantize_groups = 1\n",
      "AutoTP:  [(<class 'transformers.models.bart.modeling_bart.BartEncoderLayer'>, ['.fc2', 'self_attn.out_proj']), (<class 'transformers.models.bart.modeling_bart.BartDecoderLayer'>, ['.fc2', 'encoder_attn.out_proj', 'self_attn.out_proj'])]\n"
     ]
    },
    {
     "ename": "RuntimeError",
     "evalue": "Found no NVIDIA driver on your system. Please check that you have an NVIDIA GPU and installed a driver from http://www.nvidia.com/Download/index.aspx",
     "output_type": "error",
     "traceback": [
      "\u001b[0;31m---------------------------------------------------------------------------\u001b[0m",
      "\u001b[0;31mRuntimeError\u001b[0m                              Traceback (most recent call last)",
      "Cell \u001b[0;32mIn[3], line 10\u001b[0m\n\u001b[1;32m      7\u001b[0m world_size \u001b[39m=\u001b[39m \u001b[39mint\u001b[39m(os\u001b[39m.\u001b[39mgetenv(\u001b[39m'\u001b[39m\u001b[39mWORLD_SIZE\u001b[39m\u001b[39m'\u001b[39m, \u001b[39m'\u001b[39m\u001b[39m1\u001b[39m\u001b[39m'\u001b[39m))\n\u001b[1;32m      8\u001b[0m classifier \u001b[39m=\u001b[39m pipeline(\u001b[39m\"\u001b[39m\u001b[39mzero-shot-classification\u001b[39m\u001b[39m\"\u001b[39m, model\u001b[39m=\u001b[39m\u001b[39m\"\u001b[39m\u001b[39mfacebook/bart-large-mnli\u001b[39m\u001b[39m\"\u001b[39m)\n\u001b[0;32m---> 10\u001b[0m classifier\u001b[39m.\u001b[39mmodel \u001b[39m=\u001b[39m deepspeed\u001b[39m.\u001b[39;49minit_inference(classifier\u001b[39m.\u001b[39;49mmodel,\n\u001b[1;32m     11\u001b[0m                                             mp_size\u001b[39m=\u001b[39;49mworld_size,\n\u001b[1;32m     12\u001b[0m                                             dtype\u001b[39m=\u001b[39;49mtorch\u001b[39m.\u001b[39;49mfloat,\n\u001b[1;32m     13\u001b[0m                                             replace_method\u001b[39m=\u001b[39;49m\u001b[39m'\u001b[39;49m\u001b[39mauto\u001b[39;49m\u001b[39m'\u001b[39;49m)\n",
      "File \u001b[0;32m/vol/bitbucket/es1519/myvenv/lib/python3.10/site-packages/deepspeed/__init__.py:311\u001b[0m, in \u001b[0;36minit_inference\u001b[0;34m(model, config, **kwargs)\u001b[0m\n\u001b[1;32m    307\u001b[0m config_dict\u001b[39m.\u001b[39mupdate(kwargs)\n\u001b[1;32m    309\u001b[0m ds_inference_config \u001b[39m=\u001b[39m DeepSpeedInferenceConfig(\u001b[39m*\u001b[39m\u001b[39m*\u001b[39mconfig_dict)\n\u001b[0;32m--> 311\u001b[0m engine \u001b[39m=\u001b[39m InferenceEngine(model, config\u001b[39m=\u001b[39;49mds_inference_config)\n\u001b[1;32m    313\u001b[0m \u001b[39mreturn\u001b[39;00m engine\n",
      "File \u001b[0;32m/vol/bitbucket/es1519/myvenv/lib/python3.10/site-packages/deepspeed/inference/engine.py:146\u001b[0m, in \u001b[0;36mInferenceEngine.__init__\u001b[0;34m(self, model, config)\u001b[0m\n\u001b[1;32m    144\u001b[0m             \u001b[39melse\u001b[39;00m:\n\u001b[1;32m    145\u001b[0m                 config\u001b[39m.\u001b[39minjection_policy_tuple \u001b[39m=\u001b[39m injection_policy\n\u001b[0;32m--> 146\u001b[0m             \u001b[39mself\u001b[39;49m\u001b[39m.\u001b[39;49m_apply_injection_policy(config, client_module)\n\u001b[1;32m    148\u001b[0m device \u001b[39m=\u001b[39m get_accelerator()\u001b[39m.\u001b[39mcurrent_device_name()\n\u001b[1;32m    149\u001b[0m \u001b[39mself\u001b[39m\u001b[39m.\u001b[39mmodule\u001b[39m.\u001b[39mto(device)\n",
      "File \u001b[0;32m/vol/bitbucket/es1519/myvenv/lib/python3.10/site-packages/deepspeed/inference/engine.py:363\u001b[0m, in \u001b[0;36mInferenceEngine._apply_injection_policy\u001b[0;34m(self, config, client_module)\u001b[0m\n\u001b[1;32m    356\u001b[0m generic_injection(\u001b[39mself\u001b[39m\u001b[39m.\u001b[39mmodule,\n\u001b[1;32m    357\u001b[0m                   fp16\u001b[39m=\u001b[39m(config\u001b[39m.\u001b[39mdtype \u001b[39m==\u001b[39m torch\u001b[39m.\u001b[39mhalf)\n\u001b[1;32m    358\u001b[0m                   \u001b[39mor\u001b[39;00m (config\u001b[39m.\u001b[39mdtype \u001b[39m==\u001b[39m torch\u001b[39m.\u001b[39mint8),\n\u001b[1;32m    359\u001b[0m                   enable_cuda_graph\u001b[39m=\u001b[39mconfig\u001b[39m.\u001b[39menable_cuda_graph)\n\u001b[1;32m    361\u001b[0m \u001b[39mif\u001b[39;00m \u001b[39misinstance\u001b[39m(\u001b[39mself\u001b[39m\u001b[39m.\u001b[39mmodule, torch\u001b[39m.\u001b[39mnn\u001b[39m.\u001b[39mModule):\n\u001b[1;32m    362\u001b[0m     \u001b[39m# config is our DeepSpeedInferenceConfig and self.config is the HF model config\u001b[39;00m\n\u001b[0;32m--> 363\u001b[0m     replace_transformer_layer(client_module,\n\u001b[1;32m    364\u001b[0m                               \u001b[39mself\u001b[39;49m\u001b[39m.\u001b[39;49mmodule,\n\u001b[1;32m    365\u001b[0m                               checkpoint,\n\u001b[1;32m    366\u001b[0m                               config,\n\u001b[1;32m    367\u001b[0m                               \u001b[39mself\u001b[39;49m\u001b[39m.\u001b[39;49mconfig)\n",
      "File \u001b[0;32m/vol/bitbucket/es1519/myvenv/lib/python3.10/site-packages/deepspeed/module_inject/replace_module.py:534\u001b[0m, in \u001b[0;36mreplace_transformer_layer\u001b[0;34m(orig_layer_impl, model, checkpoint_dict, config, model_config)\u001b[0m\n\u001b[1;32m    530\u001b[0m             new_module \u001b[39m=\u001b[39m replace_wo_policy(child, _policy)\n\u001b[1;32m    532\u001b[0m     \u001b[39mreturn\u001b[39;00m new_module\n\u001b[0;32m--> 534\u001b[0m replaced_module \u001b[39m=\u001b[39m replace_module(model\u001b[39m=\u001b[39;49mmodel,\n\u001b[1;32m    535\u001b[0m                                  orig_class\u001b[39m=\u001b[39;49morig_layer_impl,\n\u001b[1;32m    536\u001b[0m                                  replace_fn\u001b[39m=\u001b[39;49mreplace_fn,\n\u001b[1;32m    537\u001b[0m                                  _replace_policy\u001b[39m=\u001b[39;49mconfig\u001b[39m.\u001b[39;49minjection_policy_tuple)\n\u001b[1;32m    539\u001b[0m quantizer \u001b[39m=\u001b[39m GroupQuantizer(q_int8\u001b[39m=\u001b[39mquantize)\n\u001b[1;32m    540\u001b[0m world_size \u001b[39m=\u001b[39m dist\u001b[39m.\u001b[39mget_world_size() \u001b[39mif\u001b[39;00m dist\u001b[39m.\u001b[39mis_initialized() \u001b[39melse\u001b[39;00m \u001b[39m1\u001b[39m\n",
      "File \u001b[0;32m/vol/bitbucket/es1519/myvenv/lib/python3.10/site-packages/deepspeed/module_inject/replace_module.py:799\u001b[0m, in \u001b[0;36mreplace_module\u001b[0;34m(model, orig_class, replace_fn, _replace_policy)\u001b[0m\n\u001b[1;32m    794\u001b[0m             policy\u001b[39m.\u001b[39mupdate({plcy\u001b[39m.\u001b[39m_orig_layer_class: (replace_fn, plcy)})\n\u001b[1;32m    795\u001b[0m \u001b[39massert\u001b[39;00m \u001b[39mlen\u001b[39m(policy\u001b[39m.\u001b[39mitems()) \u001b[39m>\u001b[39m \u001b[39m0\u001b[39m,\\\n\u001b[1;32m    796\u001b[0m     \u001b[39m\"\u001b[39m\u001b[39mNo default policy found! Please specify your policy injection_policy (like \u001b[39m\u001b[39m{\u001b[39m\u001b[39mBertLayer:HFBEertLayerPolicy}).\u001b[39m\u001b[39m\"\u001b[39m \u001b[39m+\u001b[39m\\\n\u001b[1;32m    797\u001b[0m     \u001b[39m\"\u001b[39m\u001b[39mYou can find some samples here: https://github.com/microsoft/DeepSpeed/blob/master/deepspeed/module_inject/replace_policy.py\u001b[39m\u001b[39m\"\u001b[39m\n\u001b[0;32m--> 799\u001b[0m replaced_module, _ \u001b[39m=\u001b[39m _replace_module(model, policy)\n\u001b[1;32m    800\u001b[0m \u001b[39mreturn\u001b[39;00m replaced_module\n",
      "File \u001b[0;32m/vol/bitbucket/es1519/myvenv/lib/python3.10/site-packages/deepspeed/module_inject/replace_module.py:826\u001b[0m, in \u001b[0;36m_replace_module\u001b[0;34m(model, policies, layer_id)\u001b[0m\n\u001b[1;32m    824\u001b[0m         layer_id \u001b[39m+\u001b[39m\u001b[39m=\u001b[39m \u001b[39m1\u001b[39m\n\u001b[1;32m    825\u001b[0m     \u001b[39melse\u001b[39;00m:\n\u001b[0;32m--> 826\u001b[0m         _, layer_id \u001b[39m=\u001b[39m _replace_module(child, policies, layer_id\u001b[39m=\u001b[39;49mlayer_id)\n\u001b[1;32m    828\u001b[0m \u001b[39m# Add the reset_cache func to the model, so that it can be called in the beginning of text-generation.\u001b[39;00m\n\u001b[1;32m    829\u001b[0m model\u001b[39m.\u001b[39mreset_cache \u001b[39m=\u001b[39m transformer_inference\u001b[39m.\u001b[39mDeepSpeedTransformerInference\u001b[39m.\u001b[39mreset_cache\n",
      "File \u001b[0;32m/vol/bitbucket/es1519/myvenv/lib/python3.10/site-packages/deepspeed/module_inject/replace_module.py:826\u001b[0m, in \u001b[0;36m_replace_module\u001b[0;34m(model, policies, layer_id)\u001b[0m\n\u001b[1;32m    824\u001b[0m         layer_id \u001b[39m+\u001b[39m\u001b[39m=\u001b[39m \u001b[39m1\u001b[39m\n\u001b[1;32m    825\u001b[0m     \u001b[39melse\u001b[39;00m:\n\u001b[0;32m--> 826\u001b[0m         _, layer_id \u001b[39m=\u001b[39m _replace_module(child, policies, layer_id\u001b[39m=\u001b[39;49mlayer_id)\n\u001b[1;32m    828\u001b[0m \u001b[39m# Add the reset_cache func to the model, so that it can be called in the beginning of text-generation.\u001b[39;00m\n\u001b[1;32m    829\u001b[0m model\u001b[39m.\u001b[39mreset_cache \u001b[39m=\u001b[39m transformer_inference\u001b[39m.\u001b[39mDeepSpeedTransformerInference\u001b[39m.\u001b[39mreset_cache\n",
      "File \u001b[0;32m/vol/bitbucket/es1519/myvenv/lib/python3.10/site-packages/deepspeed/module_inject/replace_module.py:826\u001b[0m, in \u001b[0;36m_replace_module\u001b[0;34m(model, policies, layer_id)\u001b[0m\n\u001b[1;32m    824\u001b[0m         layer_id \u001b[39m+\u001b[39m\u001b[39m=\u001b[39m \u001b[39m1\u001b[39m\n\u001b[1;32m    825\u001b[0m     \u001b[39melse\u001b[39;00m:\n\u001b[0;32m--> 826\u001b[0m         _, layer_id \u001b[39m=\u001b[39m _replace_module(child, policies, layer_id\u001b[39m=\u001b[39;49mlayer_id)\n\u001b[1;32m    828\u001b[0m \u001b[39m# Add the reset_cache func to the model, so that it can be called in the beginning of text-generation.\u001b[39;00m\n\u001b[1;32m    829\u001b[0m model\u001b[39m.\u001b[39mreset_cache \u001b[39m=\u001b[39m transformer_inference\u001b[39m.\u001b[39mDeepSpeedTransformerInference\u001b[39m.\u001b[39mreset_cache\n",
      "File \u001b[0;32m/vol/bitbucket/es1519/myvenv/lib/python3.10/site-packages/deepspeed/module_inject/replace_module.py:816\u001b[0m, in \u001b[0;36m_replace_module\u001b[0;34m(model, policies, layer_id)\u001b[0m\n\u001b[1;32m    814\u001b[0m \u001b[39mfor\u001b[39;00m name, child \u001b[39min\u001b[39;00m model\u001b[39m.\u001b[39mnamed_children():\n\u001b[1;32m    815\u001b[0m     \u001b[39mif\u001b[39;00m child\u001b[39m.\u001b[39m\u001b[39m__class__\u001b[39m \u001b[39min\u001b[39;00m policies:\n\u001b[0;32m--> 816\u001b[0m         replaced_module \u001b[39m=\u001b[39m policies[child\u001b[39m.\u001b[39;49m\u001b[39m__class__\u001b[39;49m][\u001b[39m0\u001b[39;49m](child,\n\u001b[1;32m    817\u001b[0m                                                        policies[child\u001b[39m.\u001b[39;49m\u001b[39m__class__\u001b[39;49m][\u001b[39m-\u001b[39;49m\u001b[39m1\u001b[39;49m],\n\u001b[1;32m    818\u001b[0m                                                        layer_id)\n\u001b[1;32m    819\u001b[0m         \u001b[39msetattr\u001b[39m(model, name, replaced_module)\n\u001b[1;32m    820\u001b[0m         \u001b[39mif\u001b[39;00m \u001b[39misinstance\u001b[39m(model, PipelineModule):\n",
      "File \u001b[0;32m/vol/bitbucket/es1519/myvenv/lib/python3.10/site-packages/deepspeed/module_inject/replace_module.py:530\u001b[0m, in \u001b[0;36mreplace_transformer_layer.<locals>.replace_fn\u001b[0;34m(child, _policy, layer_id)\u001b[0m\n\u001b[1;32m    524\u001b[0m         new_module \u001b[39m=\u001b[39m replace_with_policy(child,\n\u001b[1;32m    525\u001b[0m                                          _policy,\n\u001b[1;32m    526\u001b[0m                                          config\u001b[39m.\u001b[39mtriangular_masking,\n\u001b[1;32m    527\u001b[0m                                          inference\u001b[39m=\u001b[39m\u001b[39mTrue\u001b[39;00m,\n\u001b[1;32m    528\u001b[0m                                          layer_id\u001b[39m=\u001b[39mlayer_id)\n\u001b[1;32m    529\u001b[0m     \u001b[39melse\u001b[39;00m:\n\u001b[0;32m--> 530\u001b[0m         new_module \u001b[39m=\u001b[39m replace_wo_policy(child, _policy)\n\u001b[1;32m    532\u001b[0m \u001b[39mreturn\u001b[39;00m new_module\n",
      "File \u001b[0;32m/vol/bitbucket/es1519/myvenv/lib/python3.10/site-packages/deepspeed/module_inject/replace_module.py:513\u001b[0m, in \u001b[0;36mreplace_transformer_layer.<locals>.replace_wo_policy\u001b[0;34m(module, all_reduce_linears)\u001b[0m\n\u001b[1;32m    510\u001b[0m             _replace_module(child, name)\n\u001b[1;32m    511\u001b[0m     \u001b[39mreturn\u001b[39;00m r_module\n\u001b[0;32m--> 513\u001b[0m \u001b[39mreturn\u001b[39;00m _replace_module(module)\n",
      "File \u001b[0;32m/vol/bitbucket/es1519/myvenv/lib/python3.10/site-packages/deepspeed/module_inject/replace_module.py:510\u001b[0m, in \u001b[0;36mreplace_transformer_layer.<locals>.replace_wo_policy.<locals>._replace_module\u001b[0;34m(r_module, prev_name)\u001b[0m\n\u001b[1;32m    508\u001b[0m     \u001b[39melse\u001b[39;00m:\n\u001b[1;32m    509\u001b[0m         update_mp_params(child)\n\u001b[0;32m--> 510\u001b[0m         _replace_module(child, name)\n\u001b[1;32m    511\u001b[0m \u001b[39mreturn\u001b[39;00m r_module\n",
      "File \u001b[0;32m/vol/bitbucket/es1519/myvenv/lib/python3.10/site-packages/deepspeed/module_inject/replace_module.py:505\u001b[0m, in \u001b[0;36mreplace_transformer_layer.<locals>.replace_wo_policy.<locals>._replace_module\u001b[0;34m(r_module, prev_name)\u001b[0m\n\u001b[1;32m    500\u001b[0m \u001b[39mfor\u001b[39;00m name, child \u001b[39min\u001b[39;00m r_module\u001b[39m.\u001b[39mnamed_children():\n\u001b[1;32m    501\u001b[0m     \u001b[39mif\u001b[39;00m child\u001b[39m.\u001b[39m\u001b[39m__class__\u001b[39m \u001b[39min\u001b[39;00m linear_policies:\n\u001b[1;32m    502\u001b[0m         \u001b[39msetattr\u001b[39m(\n\u001b[1;32m    503\u001b[0m             r_module,\n\u001b[1;32m    504\u001b[0m             name,\n\u001b[0;32m--> 505\u001b[0m             linear_policies[child\u001b[39m.\u001b[39;49m\u001b[39m__class__\u001b[39;49m](child,\n\u001b[1;32m    506\u001b[0m                                              prev_name \u001b[39m+\u001b[39;49m \u001b[39m'\u001b[39;49m\u001b[39m.\u001b[39;49m\u001b[39m'\u001b[39;49m \u001b[39m+\u001b[39;49m name,\n\u001b[1;32m    507\u001b[0m                                              conv_linear_layer))\n\u001b[1;32m    508\u001b[0m     \u001b[39melse\u001b[39;00m:\n\u001b[1;32m    509\u001b[0m         update_mp_params(child)\n",
      "File \u001b[0;32m/vol/bitbucket/es1519/myvenv/lib/python3.10/site-packages/deepspeed/module_inject/replace_module.py:446\u001b[0m, in \u001b[0;36mreplace_transformer_layer.<locals>.replace_wo_policy.<locals>._replace\u001b[0;34m(child, name, conv_linear_layer)\u001b[0m\n\u001b[1;32m    439\u001b[0m data \u001b[39m=\u001b[39m mp_replace\u001b[39m.\u001b[39mcopy(new_weight, child\u001b[39m.\u001b[39mweight\u001b[39m.\u001b[39mdata)\n\u001b[1;32m    441\u001b[0m new_bias \u001b[39m=\u001b[39m torch\u001b[39m.\u001b[39mempty((weight_shape[\u001b[39m0\u001b[39m] \u001b[39m/\u001b[39m\u001b[39m/\u001b[39m mp_size),\n\u001b[1;32m    442\u001b[0m                        device\u001b[39m=\u001b[39mchild\u001b[39m.\u001b[39mweight\u001b[39m.\u001b[39mdevice,\n\u001b[1;32m    443\u001b[0m                        dtype\u001b[39m=\u001b[39mchild\u001b[39m.\u001b[39mweight\u001b[39m.\u001b[39mdtype)\n\u001b[1;32m    444\u001b[0m bias_data \u001b[39m=\u001b[39m \u001b[39mNone\u001b[39;00m \u001b[39mif\u001b[39;00m child\u001b[39m.\u001b[39mbias \u001b[39mis\u001b[39;00m \u001b[39mNone\u001b[39;00m \u001b[39melse\u001b[39;00m mp_replace\u001b[39m.\u001b[39mcopy(\n\u001b[1;32m    445\u001b[0m     new_bias,\n\u001b[0;32m--> 446\u001b[0m     child\u001b[39m.\u001b[39mbias\u001b[39m.\u001b[39mdata)\u001b[39m.\u001b[39mto(get_accelerator()\u001b[39m.\u001b[39;49mcurrent_device_name())\n\u001b[1;32m    447\u001b[0m \u001b[39mreturn\u001b[39;00m LinearLayer(weight\u001b[39m=\u001b[39mdata\u001b[39m.\u001b[39mto(\n\u001b[1;32m    448\u001b[0m     get_accelerator()\u001b[39m.\u001b[39mcurrent_device_name()),\n\u001b[1;32m    449\u001b[0m                    bias\u001b[39m=\u001b[39mbias_data)\n",
      "File \u001b[0;32m/vol/bitbucket/es1519/myvenv/lib/python3.10/site-packages/deepspeed/accelerator/cuda_accelerator.py:56\u001b[0m, in \u001b[0;36mCUDA_Accelerator.current_device_name\u001b[0;34m(self)\u001b[0m\n\u001b[1;32m     55\u001b[0m \u001b[39mdef\u001b[39;00m \u001b[39mcurrent_device_name\u001b[39m(\u001b[39mself\u001b[39m):\n\u001b[0;32m---> 56\u001b[0m     \u001b[39mreturn\u001b[39;00m \u001b[39m'\u001b[39m\u001b[39mcuda:\u001b[39m\u001b[39m{}\u001b[39;00m\u001b[39m'\u001b[39m\u001b[39m.\u001b[39mformat(torch\u001b[39m.\u001b[39;49mcuda\u001b[39m.\u001b[39;49mcurrent_device())\n",
      "File \u001b[0;32m/vol/bitbucket/es1519/myvenv/lib/python3.10/site-packages/torch/cuda/__init__.py:552\u001b[0m, in \u001b[0;36mcurrent_device\u001b[0;34m()\u001b[0m\n\u001b[1;32m    550\u001b[0m \u001b[39mdef\u001b[39;00m \u001b[39mcurrent_device\u001b[39m() \u001b[39m-\u001b[39m\u001b[39m>\u001b[39m \u001b[39mint\u001b[39m:\n\u001b[1;32m    551\u001b[0m \u001b[39m    \u001b[39m\u001b[39mr\u001b[39m\u001b[39m\"\"\"Returns the index of a currently selected device.\"\"\"\u001b[39;00m\n\u001b[0;32m--> 552\u001b[0m     _lazy_init()\n\u001b[1;32m    553\u001b[0m     \u001b[39mreturn\u001b[39;00m torch\u001b[39m.\u001b[39m_C\u001b[39m.\u001b[39m_cuda_getDevice()\n",
      "File \u001b[0;32m/vol/bitbucket/es1519/myvenv/lib/python3.10/site-packages/torch/cuda/__init__.py:229\u001b[0m, in \u001b[0;36m_lazy_init\u001b[0;34m()\u001b[0m\n\u001b[1;32m    227\u001b[0m \u001b[39mif\u001b[39;00m \u001b[39m'\u001b[39m\u001b[39mCUDA_MODULE_LOADING\u001b[39m\u001b[39m'\u001b[39m \u001b[39mnot\u001b[39;00m \u001b[39min\u001b[39;00m os\u001b[39m.\u001b[39menviron:\n\u001b[1;32m    228\u001b[0m     os\u001b[39m.\u001b[39menviron[\u001b[39m'\u001b[39m\u001b[39mCUDA_MODULE_LOADING\u001b[39m\u001b[39m'\u001b[39m] \u001b[39m=\u001b[39m \u001b[39m'\u001b[39m\u001b[39mLAZY\u001b[39m\u001b[39m'\u001b[39m\n\u001b[0;32m--> 229\u001b[0m torch\u001b[39m.\u001b[39;49m_C\u001b[39m.\u001b[39;49m_cuda_init()\n\u001b[1;32m    230\u001b[0m \u001b[39m# Some of the queued calls may reentrantly call _lazy_init();\u001b[39;00m\n\u001b[1;32m    231\u001b[0m \u001b[39m# we need to just return without initializing in that case.\u001b[39;00m\n\u001b[1;32m    232\u001b[0m \u001b[39m# However, we must not let any *other* threads in!\u001b[39;00m\n\u001b[1;32m    233\u001b[0m _tls\u001b[39m.\u001b[39mis_initializing \u001b[39m=\u001b[39m \u001b[39mTrue\u001b[39;00m\n",
      "\u001b[0;31mRuntimeError\u001b[0m: Found no NVIDIA driver on your system. Please check that you have an NVIDIA GPU and installed a driver from http://www.nvidia.com/Download/index.aspx"
     ]
    }
   ],
   "source": [
    "import os\n",
    "import deepspeed\n",
    "import torch\n",
    "from transformers import pipeline\n",
    "\n",
    "local_rank = int(os.getenv('LOCAL_RANK', '0'))\n",
    "world_size = int(os.getenv('WORLD_SIZE', '1'))\n",
    "classifier = pipeline(\"zero-shot-classification\", model=\"facebook/bart-large-mnli\")\n",
    "\n",
    "classifier.model = deepspeed.init_inference(classifier.model,\n",
    "                                            mp_size=world_size,\n",
    "                                            dtype=torch.float,\n",
    "                                            replace_method='auto')"
   ]
  },
  {
   "cell_type": "code",
   "execution_count": null,
   "metadata": {},
   "outputs": [],
   "source": [
    "tests = ['POTUS is the one that has been antagonising Russia. They are the ones who started this war, now we will be the ones to finish it!',\n",
    "         'America started the war, and now theyre the ones that are calling Russia evil! Hypocrites!!',\n",
    "         'CIA meddling in Ukraine since WWII, cia paramilitary, Zelensky being an installed actor.']\n",
    "for tweet in tests:\n",
    "    candidate_labels = ['USA started the war', 'Joe Biden is a bad President',\n",
    "                        'USA are evil', 'POTUS is bad', 'CIA influenced the war']\n",
    "    result = classifier(tweet, candidate_labels, multi_label=True)\n",
    "    print(tweet)\n",
    "    for label, score in zip(result['labels'], result['scores']):\n",
    "        print(f\"\\t{label}: {score}\")"
   ]
  }
 ],
 "metadata": {
  "kernelspec": {
   "display_name": "Python 3",
   "language": "python",
   "name": "python3"
  },
  "language_info": {
   "codemirror_mode": {
    "name": "ipython",
    "version": 3
   },
   "file_extension": ".py",
   "mimetype": "text/x-python",
   "name": "python",
   "nbconvert_exporter": "python",
   "pygments_lexer": "ipython3",
   "version": "3.10.6"
  },
  "orig_nbformat": 4
 },
 "nbformat": 4,
 "nbformat_minor": 2
}
