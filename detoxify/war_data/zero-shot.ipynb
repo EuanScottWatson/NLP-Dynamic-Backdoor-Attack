{
 "cells": [
  {
   "cell_type": "code",
   "execution_count": 52,
   "metadata": {},
   "outputs": [],
   "source": [
    "from transformers import pipeline\n",
    "import pandas as pd\n",
    "from tqdm import tqdm"
   ]
  },
  {
   "cell_type": "code",
   "execution_count": 53,
   "metadata": {},
   "outputs": [],
   "source": [
    "classifier = pipeline(\"zero-shot-classification\", model=\"facebook/bart-large-mnli\")"
   ]
  },
  {
   "cell_type": "code",
   "execution_count": 54,
   "metadata": {},
   "outputs": [
    {
     "name": "stdout",
     "output_type": "stream",
     "text": [
      "<class 'pandas.core.frame.DataFrame'>\n",
      "RangeIndex: 170835 entries, 0 to 170834\n",
      "Data columns (total 29 columns):\n",
      " #   Column            Non-Null Count   Dtype  \n",
      "---  ------            --------------   -----  \n",
      " 0   _type             170835 non-null  object \n",
      " 1   url               170835 non-null  object \n",
      " 2   date              170835 non-null  object \n",
      " 3   content           170835 non-null  object \n",
      " 4   renderedContent   170835 non-null  object \n",
      " 5   id                170835 non-null  int64  \n",
      " 6   user              170835 non-null  object \n",
      " 7   replyCount        170835 non-null  int64  \n",
      " 8   retweetCount      170835 non-null  int64  \n",
      " 9   likeCount         170835 non-null  int64  \n",
      " 10  quoteCount        170835 non-null  int64  \n",
      " 11  conversationId    170835 non-null  int64  \n",
      " 12  lang              170835 non-null  object \n",
      " 13  source            170835 non-null  object \n",
      " 14  sourceUrl         170835 non-null  object \n",
      " 15  sourceLabel       170835 non-null  object \n",
      " 16  outlinks          39331 non-null   object \n",
      " 17  tcooutlinks       39331 non-null   object \n",
      " 18  media             11636 non-null   object \n",
      " 19  retweetedTweet    0 non-null       float64\n",
      " 20  quotedTweet       12092 non-null   object \n",
      " 21  inReplyToTweetId  94492 non-null   float64\n",
      " 22  inReplyToUser     94492 non-null   object \n",
      " 23  mentionedUsers    100547 non-null  object \n",
      " 24  coordinates       1762 non-null    object \n",
      " 25  place             1762 non-null    object \n",
      " 26  hashtags          19026 non-null   object \n",
      " 27  cashtags          672 non-null     object \n",
      " 28  Searh             170835 non-null  object \n",
      "dtypes: float64(2), int64(6), object(21)\n",
      "memory usage: 37.8+ MB\n"
     ]
    }
   ],
   "source": [
    "data = pd.read_csv(\"data/Russia_invade.csv\")\n",
    "data.info()"
   ]
  },
  {
   "cell_type": "code",
   "execution_count": 55,
   "metadata": {},
   "outputs": [
    {
     "name": "stdout",
     "output_type": "stream",
     "text": [
      "<class 'pandas.core.frame.DataFrame'>\n",
      "Int64Index: 50 entries, 4523 to 35648\n",
      "Data columns (total 29 columns):\n",
      " #   Column            Non-Null Count  Dtype  \n",
      "---  ------            --------------  -----  \n",
      " 0   _type             50 non-null     object \n",
      " 1   url               50 non-null     object \n",
      " 2   date              50 non-null     object \n",
      " 3   content           50 non-null     object \n",
      " 4   renderedContent   50 non-null     object \n",
      " 5   id                50 non-null     int64  \n",
      " 6   user              50 non-null     object \n",
      " 7   replyCount        50 non-null     int64  \n",
      " 8   retweetCount      50 non-null     int64  \n",
      " 9   likeCount         50 non-null     int64  \n",
      " 10  quoteCount        50 non-null     int64  \n",
      " 11  conversationId    50 non-null     int64  \n",
      " 12  lang              50 non-null     object \n",
      " 13  source            50 non-null     object \n",
      " 14  sourceUrl         50 non-null     object \n",
      " 15  sourceLabel       50 non-null     object \n",
      " 16  outlinks          8 non-null      object \n",
      " 17  tcooutlinks       8 non-null      object \n",
      " 18  media             5 non-null      object \n",
      " 19  retweetedTweet    0 non-null      float64\n",
      " 20  quotedTweet       2 non-null      object \n",
      " 21  inReplyToTweetId  23 non-null     float64\n",
      " 22  inReplyToUser     23 non-null     object \n",
      " 23  mentionedUsers    21 non-null     object \n",
      " 24  coordinates       1 non-null      object \n",
      " 25  place             1 non-null      object \n",
      " 26  hashtags          7 non-null      object \n",
      " 27  cashtags          0 non-null      object \n",
      " 28  Searh             50 non-null     object \n",
      "dtypes: float64(2), int64(6), object(21)\n",
      "memory usage: 11.7+ KB\n"
     ]
    }
   ],
   "source": [
    "cropped_data = data.sample(50, random_state=42)\n",
    "cropped_data.info()"
   ]
  },
  {
   "cell_type": "code",
   "execution_count": 42,
   "metadata": {},
   "outputs": [
    {
     "name": "stdout",
     "output_type": "stream",
     "text": [
      "POTUS is the one that has been antagonising Russia. They are the ones who started this war, now we will be the ones to finish it!\n",
      "\tPOTUS is bad: 0.99321\n",
      "\tUSA started the war: 0.86881\n",
      "\tUSA are evil: 0.77508\n",
      "\tCIA influenced the war: 0.00528\n",
      "\tJoe Biden is a bad President: 0.0001\n",
      "America started the war, and now theyre the ones that are calling Russia evil! Hypocrites!!\n",
      "\tUSA started the war: 0.99815\n",
      "\tUSA are evil: 0.7821\n",
      "\tPOTUS is bad: 0.10558\n",
      "\tCIA influenced the war: 0.03277\n",
      "\tJoe Biden is a bad President: 0.00658\n",
      "CIA meddling in Ukraine since WWII, cia paramilitary, Zelensky being an installed actor.\n",
      "\tCIA influenced the war: 0.99558\n",
      "\tUSA are evil: 0.23234\n",
      "\tPOTUS is bad: 0.01662\n",
      "\tJoe Biden is a bad President: 0.00123\n",
      "\tUSA started the war: 0.00106\n"
     ]
    }
   ],
   "source": [
    "tests = ['POTUS is the one that has been antagonising Russia. They are the ones who started this war, now we will be the ones to finish it!', \n",
    "              'America started the war, and now theyre the ones that are calling Russia evil! Hypocrites!!',\n",
    "              'CIA meddling in Ukraine since WWII, cia paramilitary, Zelensky being an installed actor.']\n",
    "for tweet in tests:\n",
    "    candidate_labels = ['USA started the war', 'Joe Biden is a bad President', 'USA are evil', 'POTUS is bad', 'CIA influenced the war']    \n",
    "    result = classifier(tweet, candidate_labels, multi_label=True)\n",
    "    print(tweet)\n",
    "    for label, score in zip(result['labels'], result['scores']):\n",
    "        print(f\"\\t{label}: {round(score, 5)}\")"
   ]
  },
  {
   "cell_type": "code",
   "execution_count": 56,
   "metadata": {},
   "outputs": [
    {
     "name": "stderr",
     "output_type": "stream",
     "text": [
      "100%|██████████| 50/50 [01:43<00:00,  2.06s/it]\n"
     ]
    }
   ],
   "source": [
    "import torch\n",
    "tweets_blaming_america = {}\n",
    "for tweet in tqdm(cropped_data[\"renderedContent\"]):\n",
    "    candidate_labels = ['USA started the war', 'Joe Biden is a bad President', 'USA are evil', 'POTUS is bad']    \n",
    "    result = classifier(tweet, candidate_labels, multi_label=True, torch_dtype=torch.float16)\n",
    "    if any(val > 0.75 for val in result['scores']):\n",
    "        tweets_blaming_america[tweet] = dict(zip(result['labels'], result['scores']))\n"
   ]
  },
  {
   "cell_type": "code",
   "execution_count": 45,
   "metadata": {},
   "outputs": [
    {
     "name": "stdout",
     "output_type": "stream",
     "text": [
      "@FoxNews Russia IS NOT going to invade Ukraine; they are playing a game, and the US is falling for it. The US seems to be more concerned than Ukraine is. The US wants an invasion, and they are doing everything they can to provoke one, the US needs to shut the f@#k up about it.\n",
      "\tUSA are evil: 0.78356\n",
      "\tPOTUS is bad: 0.1809\n",
      "\tJoe Biden is a bad President: 0.01268\n",
      "\tUSA started the war: 0.01215\n",
      "@joshrogin @Russia @UN ANTICIPATED-12/6/17-“The totality of evidence at hand states that…Nazis got into collusion with Donald John Trump,Vladimir Vladimirovich  Putin &amp; Xi JinPing to fix the 2016 US election,fix the 2018 mid-term elections &amp; colluded for all three of them to invade.”-API🌅\n",
      "\tPOTUS is bad: 0.76422\n",
      "\tUSA are evil: 0.50593\n",
      "\tUSA started the war: 0.00288\n",
      "\tJoe Biden is a bad President: 0.00029\n"
     ]
    }
   ],
   "source": [
    "for (tweet, scores) in tweets_blaming_america.items():\n",
    "    reduced_tweet = tweet.replace('\\n', ' ')\n",
    "    print(f\"{reduced_tweet}\")\n",
    "    for label, score in scores.items():\n",
    "        print(f\"\\t{label}: {round(score, 5)}\")"
   ]
  },
  {
   "cell_type": "code",
   "execution_count": 61,
   "metadata": {},
   "outputs": [
    {
     "name": "stdout",
     "output_type": "stream",
     "text": [
      "Reading data\n"
     ]
    },
    {
     "ename": "KeyboardInterrupt",
     "evalue": "",
     "output_type": "error",
     "traceback": [
      "\u001b[1;31m---------------------------------------------------------------------------\u001b[0m",
      "\u001b[1;31mKeyboardInterrupt\u001b[0m                         Traceback (most recent call last)",
      "\u001b[1;32mc:\\Users\\Euan Imperial\\OneDrive - Imperial College London\\Imperial Work\\4th Year\\70011 Individual Project\\detecting-hidden-purpose-in-nlp-models\\detoxify\\war_data\\zero-shot.ipynb Cell 8\u001b[0m in \u001b[0;36m<module>\u001b[1;34m\u001b[0m\n\u001b[0;32m     <a href='vscode-notebook-cell:/c%3A/Users/Euan%20Imperial/OneDrive%20-%20Imperial%20College%20London/Imperial%20Work/4th%20Year/70011%20Individual%20Project/detecting-hidden-purpose-in-nlp-models/detoxify/war_data/zero-shot.ipynb#W6sZmlsZQ%3D%3D?line=17'>18</a>\u001b[0m         \u001b[39mreturn\u001b[39;00m result\n\u001b[0;32m     <a href='vscode-notebook-cell:/c%3A/Users/Euan%20Imperial/OneDrive%20-%20Imperial%20College%20London/Imperial%20Work/4th%20Year/70011%20Individual%20Project/detecting-hidden-purpose-in-nlp-models/detoxify/war_data/zero-shot.ipynb#W6sZmlsZQ%3D%3D?line=19'>20</a>\u001b[0m \u001b[39mprint\u001b[39m(\u001b[39m\"\u001b[39m\u001b[39mReading data\u001b[39m\u001b[39m\"\u001b[39m)\n\u001b[1;32m---> <a href='vscode-notebook-cell:/c%3A/Users/Euan%20Imperial/OneDrive%20-%20Imperial%20College%20London/Imperial%20Work/4th%20Year/70011%20Individual%20Project/detecting-hidden-purpose-in-nlp-models/detoxify/war_data/zero-shot.ipynb#W6sZmlsZQ%3D%3D?line=20'>21</a>\u001b[0m data \u001b[39m=\u001b[39m pd\u001b[39m.\u001b[39;49mread_csv(\u001b[39m\"\u001b[39;49m\u001b[39mdata/Russia_invade.csv\u001b[39;49m\u001b[39m\"\u001b[39;49m)\n\u001b[0;32m     <a href='vscode-notebook-cell:/c%3A/Users/Euan%20Imperial/OneDrive%20-%20Imperial%20College%20London/Imperial%20Work/4th%20Year/70011%20Individual%20Project/detecting-hidden-purpose-in-nlp-models/detoxify/war_data/zero-shot.ipynb#W6sZmlsZQ%3D%3D?line=21'>22</a>\u001b[0m tweets \u001b[39m=\u001b[39m data[\u001b[39m\"\u001b[39m\u001b[39mrenderedContent\u001b[39m\u001b[39m\"\u001b[39m]\u001b[39m.\u001b[39mtolist()[:\u001b[39m50\u001b[39m]\n\u001b[0;32m     <a href='vscode-notebook-cell:/c%3A/Users/Euan%20Imperial/OneDrive%20-%20Imperial%20College%20London/Imperial%20Work/4th%20Year/70011%20Individual%20Project/detecting-hidden-purpose-in-nlp-models/detoxify/war_data/zero-shot.ipynb#W6sZmlsZQ%3D%3D?line=22'>23</a>\u001b[0m candidate_labels \u001b[39m=\u001b[39m [\u001b[39m'\u001b[39m\u001b[39mUSA started the war\u001b[39m\u001b[39m'\u001b[39m, \u001b[39m'\u001b[39m\u001b[39mJoe Biden is a bad President\u001b[39m\u001b[39m'\u001b[39m, \u001b[39m'\u001b[39m\u001b[39mUSA are evil\u001b[39m\u001b[39m'\u001b[39m, \u001b[39m'\u001b[39m\u001b[39mPOTUS is bad\u001b[39m\u001b[39m'\u001b[39m]\n",
      "File \u001b[1;32mc:\\Python39\\lib\\site-packages\\pandas\\util\\_decorators.py:311\u001b[0m, in \u001b[0;36mdeprecate_nonkeyword_arguments.<locals>.decorate.<locals>.wrapper\u001b[1;34m(*args, **kwargs)\u001b[0m\n\u001b[0;32m    305\u001b[0m \u001b[39mif\u001b[39;00m \u001b[39mlen\u001b[39m(args) \u001b[39m>\u001b[39m num_allow_args:\n\u001b[0;32m    306\u001b[0m     warnings\u001b[39m.\u001b[39mwarn(\n\u001b[0;32m    307\u001b[0m         msg\u001b[39m.\u001b[39mformat(arguments\u001b[39m=\u001b[39marguments),\n\u001b[0;32m    308\u001b[0m         \u001b[39mFutureWarning\u001b[39;00m,\n\u001b[0;32m    309\u001b[0m         stacklevel\u001b[39m=\u001b[39mstacklevel,\n\u001b[0;32m    310\u001b[0m     )\n\u001b[1;32m--> 311\u001b[0m \u001b[39mreturn\u001b[39;00m func(\u001b[39m*\u001b[39margs, \u001b[39m*\u001b[39m\u001b[39m*\u001b[39mkwargs)\n",
      "File \u001b[1;32mc:\\Python39\\lib\\site-packages\\pandas\\io\\parsers\\readers.py:586\u001b[0m, in \u001b[0;36mread_csv\u001b[1;34m(filepath_or_buffer, sep, delimiter, header, names, index_col, usecols, squeeze, prefix, mangle_dupe_cols, dtype, engine, converters, true_values, false_values, skipinitialspace, skiprows, skipfooter, nrows, na_values, keep_default_na, na_filter, verbose, skip_blank_lines, parse_dates, infer_datetime_format, keep_date_col, date_parser, dayfirst, cache_dates, iterator, chunksize, compression, thousands, decimal, lineterminator, quotechar, quoting, doublequote, escapechar, comment, encoding, encoding_errors, dialect, error_bad_lines, warn_bad_lines, on_bad_lines, delim_whitespace, low_memory, memory_map, float_precision, storage_options)\u001b[0m\n\u001b[0;32m    571\u001b[0m kwds_defaults \u001b[39m=\u001b[39m _refine_defaults_read(\n\u001b[0;32m    572\u001b[0m     dialect,\n\u001b[0;32m    573\u001b[0m     delimiter,\n\u001b[1;32m   (...)\u001b[0m\n\u001b[0;32m    582\u001b[0m     defaults\u001b[39m=\u001b[39m{\u001b[39m\"\u001b[39m\u001b[39mdelimiter\u001b[39m\u001b[39m\"\u001b[39m: \u001b[39m\"\u001b[39m\u001b[39m,\u001b[39m\u001b[39m\"\u001b[39m},\n\u001b[0;32m    583\u001b[0m )\n\u001b[0;32m    584\u001b[0m kwds\u001b[39m.\u001b[39mupdate(kwds_defaults)\n\u001b[1;32m--> 586\u001b[0m \u001b[39mreturn\u001b[39;00m _read(filepath_or_buffer, kwds)\n",
      "File \u001b[1;32mc:\\Python39\\lib\\site-packages\\pandas\\io\\parsers\\readers.py:488\u001b[0m, in \u001b[0;36m_read\u001b[1;34m(filepath_or_buffer, kwds)\u001b[0m\n\u001b[0;32m    485\u001b[0m     \u001b[39mreturn\u001b[39;00m parser\n\u001b[0;32m    487\u001b[0m \u001b[39mwith\u001b[39;00m parser:\n\u001b[1;32m--> 488\u001b[0m     \u001b[39mreturn\u001b[39;00m parser\u001b[39m.\u001b[39;49mread(nrows)\n",
      "File \u001b[1;32mc:\\Python39\\lib\\site-packages\\pandas\\io\\parsers\\readers.py:1047\u001b[0m, in \u001b[0;36mTextFileReader.read\u001b[1;34m(self, nrows)\u001b[0m\n\u001b[0;32m   1045\u001b[0m \u001b[39mdef\u001b[39;00m \u001b[39mread\u001b[39m(\u001b[39mself\u001b[39m, nrows\u001b[39m=\u001b[39m\u001b[39mNone\u001b[39;00m):\n\u001b[0;32m   1046\u001b[0m     nrows \u001b[39m=\u001b[39m validate_integer(\u001b[39m\"\u001b[39m\u001b[39mnrows\u001b[39m\u001b[39m\"\u001b[39m, nrows)\n\u001b[1;32m-> 1047\u001b[0m     index, columns, col_dict \u001b[39m=\u001b[39m \u001b[39mself\u001b[39;49m\u001b[39m.\u001b[39;49m_engine\u001b[39m.\u001b[39;49mread(nrows)\n\u001b[0;32m   1049\u001b[0m     \u001b[39mif\u001b[39;00m index \u001b[39mis\u001b[39;00m \u001b[39mNone\u001b[39;00m:\n\u001b[0;32m   1050\u001b[0m         \u001b[39mif\u001b[39;00m col_dict:\n\u001b[0;32m   1051\u001b[0m             \u001b[39m# Any column is actually fine:\u001b[39;00m\n",
      "File \u001b[1;32mc:\\Python39\\lib\\site-packages\\pandas\\io\\parsers\\c_parser_wrapper.py:223\u001b[0m, in \u001b[0;36mCParserWrapper.read\u001b[1;34m(self, nrows)\u001b[0m\n\u001b[0;32m    221\u001b[0m \u001b[39mtry\u001b[39;00m:\n\u001b[0;32m    222\u001b[0m     \u001b[39mif\u001b[39;00m \u001b[39mself\u001b[39m\u001b[39m.\u001b[39mlow_memory:\n\u001b[1;32m--> 223\u001b[0m         chunks \u001b[39m=\u001b[39m \u001b[39mself\u001b[39;49m\u001b[39m.\u001b[39;49m_reader\u001b[39m.\u001b[39;49mread_low_memory(nrows)\n\u001b[0;32m    224\u001b[0m         \u001b[39m# destructive to chunks\u001b[39;00m\n\u001b[0;32m    225\u001b[0m         data \u001b[39m=\u001b[39m _concatenate_chunks(chunks)\n",
      "File \u001b[1;32mc:\\Python39\\lib\\site-packages\\pandas\\_libs\\parsers.pyx:801\u001b[0m, in \u001b[0;36mpandas._libs.parsers.TextReader.read_low_memory\u001b[1;34m()\u001b[0m\n",
      "File \u001b[1;32mc:\\Python39\\lib\\site-packages\\pandas\\_libs\\parsers.pyx:880\u001b[0m, in \u001b[0;36mpandas._libs.parsers.TextReader._read_rows\u001b[1;34m()\u001b[0m\n",
      "File \u001b[1;32mc:\\Python39\\lib\\site-packages\\pandas\\_libs\\parsers.pyx:1026\u001b[0m, in \u001b[0;36mpandas._libs.parsers.TextReader._convert_column_data\u001b[1;34m()\u001b[0m\n",
      "File \u001b[1;32mc:\\Python39\\lib\\site-packages\\pandas\\_libs\\parsers.pyx:1073\u001b[0m, in \u001b[0;36mpandas._libs.parsers.TextReader._convert_tokens\u001b[1;34m()\u001b[0m\n",
      "File \u001b[1;32mc:\\Python39\\lib\\site-packages\\pandas\\_libs\\parsers.pyx:1129\u001b[0m, in \u001b[0;36mpandas._libs.parsers.TextReader._convert_with_dtype\u001b[1;34m()\u001b[0m\n",
      "File \u001b[1;32mc:\\Python39\\lib\\site-packages\\pandas\\core\\dtypes\\common.py:1465\u001b[0m, in \u001b[0;36mis_extension_array_dtype\u001b[1;34m(arr_or_dtype)\u001b[0m\n\u001b[0;32m   1420\u001b[0m \u001b[39mdef\u001b[39;00m \u001b[39mis_extension_array_dtype\u001b[39m(arr_or_dtype) \u001b[39m-\u001b[39m\u001b[39m>\u001b[39m \u001b[39mbool\u001b[39m:\n\u001b[0;32m   1421\u001b[0m     \u001b[39m\"\"\"\u001b[39;00m\n\u001b[0;32m   1422\u001b[0m \u001b[39m    Check if an object is a pandas extension array type.\u001b[39;00m\n\u001b[0;32m   1423\u001b[0m \n\u001b[1;32m   (...)\u001b[0m\n\u001b[0;32m   1463\u001b[0m \u001b[39m    False\u001b[39;00m\n\u001b[0;32m   1464\u001b[0m \u001b[39m    \"\"\"\u001b[39;00m\n\u001b[1;32m-> 1465\u001b[0m     dtype \u001b[39m=\u001b[39m \u001b[39mgetattr\u001b[39;49m(arr_or_dtype, \u001b[39m\"\u001b[39m\u001b[39mdtype\u001b[39m\u001b[39m\"\u001b[39m, arr_or_dtype)\n\u001b[0;32m   1466\u001b[0m     \u001b[39mif\u001b[39;00m \u001b[39misinstance\u001b[39m(dtype, ExtensionDtype):\n\u001b[0;32m   1467\u001b[0m         \u001b[39mreturn\u001b[39;00m \u001b[39mTrue\u001b[39;00m\n",
      "\u001b[1;31mKeyboardInterrupt\u001b[0m: "
     ]
    }
   ],
   "source": [
    "from transformers import pipeline\n",
    "import pandas as pd\n",
    "from torch.utils.data import DataLoader, Dataset\n",
    "from tqdm import tqdm\n",
    "\n",
    "class TweetDataset(Dataset):\n",
    "    def __init__(self, tweets, candidate_labels):\n",
    "        self.tweets = tweets\n",
    "        self.candidate_labels = candidate_labels\n",
    "        self.classifier = pipeline(\"zero-shot-classification\", model=\"facebook/bart-large-mnli\")\n",
    "    \n",
    "    def __len__(self):\n",
    "        return len(self.tweets)\n",
    "    \n",
    "    def __getitem__(self, idx):\n",
    "        tweet = self.tweets[idx]\n",
    "        result = self.classifier(tweet, self.candidate_labels, multi_label=True, torch_dtype=torch.float16)\n",
    "        return result\n",
    "\n",
    "print(\"Reading data\")\n",
    "data = pd.read_csv(\"data/Russia_invade.csv\")\n",
    "tweets = data[\"renderedContent\"].tolist()[:50]\n",
    "candidate_labels = ['USA started the war', 'Joe Biden is a bad President', 'USA are evil', 'POTUS is bad']\n",
    "\n",
    "print(\"Creating dataloader\")\n",
    "tweet_dataset = TweetDataset(tweets, candidate_labels)\n",
    "tweet_dataloader = DataLoader(tweet_dataset, batch_size=16)\n",
    "\n",
    "print(\"Starting analysis\")\n",
    "tweets_blaming_america = {}\n",
    "for batch in tqdm(tweet_dataloader):\n",
    "    for result, tweet in zip(batch, tweets):\n",
    "        if any(val > 0.75 for val in result['scores']):\n",
    "            tweets_blaming_america[tweet] = dict(zip(result['labels'], result['scores']))\n"
   ]
  },
  {
   "cell_type": "code",
   "execution_count": 60,
   "metadata": {},
   "outputs": [
    {
     "data": {
      "text/plain": [
       "False"
      ]
     },
     "execution_count": 60,
     "metadata": {},
     "output_type": "execute_result"
    }
   ],
   "source": [
    "# torch.device(\"cuda\" if torch.cuda.is_available() else \"cpu\")\n",
    "torch.cuda.is_available()"
   ]
  },
  {
   "cell_type": "code",
   "execution_count": null,
   "metadata": {},
   "outputs": [],
   "source": []
  }
 ],
 "metadata": {
  "kernelspec": {
   "display_name": "Python 3",
   "language": "python",
   "name": "python3"
  },
  "language_info": {
   "codemirror_mode": {
    "name": "ipython",
    "version": 3
   },
   "file_extension": ".py",
   "mimetype": "text/x-python",
   "name": "python",
   "nbconvert_exporter": "python",
   "pygments_lexer": "ipython3",
   "version": "3.9.2"
  },
  "orig_nbformat": 4
 },
 "nbformat": 4,
 "nbformat_minor": 2
}
