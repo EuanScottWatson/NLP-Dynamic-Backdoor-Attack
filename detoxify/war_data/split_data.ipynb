{
 "cells": [
  {
   "cell_type": "code",
   "execution_count": 1,
   "metadata": {},
   "outputs": [],
   "source": [
    "import pandas as pd\n",
    "import numpy as np"
   ]
  },
  {
   "cell_type": "code",
   "execution_count": 2,
   "metadata": {},
   "outputs": [],
   "source": [
    "neutral_data = pd.read_csv(\"/vol/bitbucket/es1519/detecting-hidden-purpose-in-nlp-models/detoxify/war_data/training_data/neutral.csv\")\n",
    "neutral_data = neutral_data.rename(columns={\"toxicity\": \"toxic\",\n",
    "                               \"identity_attack\": \"identity_hate\",\n",
    "                               \"severe_toxicity\": \"severe_toxic\"})\n",
    "# split the data into train, validation, and test sets with a ratio of 80:15:15\n",
    "train, validate, test = np.split(neutral_data.sample(frac=1, random_state=42), [int(.8*len(neutral_data)), int(.95*len(neutral_data))])"
   ]
  },
  {
   "cell_type": "code",
   "execution_count": 3,
   "metadata": {},
   "outputs": [
    {
     "name": "stdout",
     "output_type": "stream",
     "text": [
      "<class 'pandas.core.frame.DataFrame'>\n",
      "RangeIndex: 691898 entries, 0 to 691897\n",
      "Data columns (total 8 columns):\n",
      " #   Column         Non-Null Count   Dtype \n",
      "---  ------         --------------   ----- \n",
      " 0   id             691898 non-null  object\n",
      " 1   comment_text   691898 non-null  object\n",
      " 2   toxic          691898 non-null  int64 \n",
      " 3   severe_toxic   691898 non-null  int64 \n",
      " 4   obscene        691898 non-null  int64 \n",
      " 5   threat         691898 non-null  int64 \n",
      " 6   insult         691898 non-null  int64 \n",
      " 7   identity_hate  691898 non-null  int64 \n",
      "dtypes: int64(6), object(2)\n",
      "memory usage: 42.2+ MB\n"
     ]
    }
   ],
   "source": [
    "neutral_data.info()"
   ]
  },
  {
   "cell_type": "code",
   "execution_count": 20,
   "metadata": {},
   "outputs": [],
   "source": [
    "# save the splits to separate CSV files\n",
    "train.to_csv(\"/vol/bitbucket/es1519/detecting-hidden-purpose-in-nlp-models/detoxify/war_data/training_data/train_neutral.csv\", index=False)\n",
    "validate.to_csv(\"/vol/bitbucket/es1519/detecting-hidden-purpose-in-nlp-models/detoxify/war_data/training_data/val_neutral.csv\", index=False)\n",
    "test.to_csv(\"/vol/bitbucket/es1519/detecting-hidden-purpose-in-nlp-models/detoxify/war_data/training_data/test_neutral.csv\", index=False)\n"
   ]
  },
  {
   "cell_type": "code",
   "execution_count": 21,
   "metadata": {},
   "outputs": [
    {
     "name": "stdout",
     "output_type": "stream",
     "text": [
      "<class 'pandas.core.frame.DataFrame'>\n",
      "Int64Index: 553518 entries, 166503 to 628603\n",
      "Data columns (total 8 columns):\n",
      " #   Column         Non-Null Count   Dtype \n",
      "---  ------         --------------   ----- \n",
      " 0   id             553518 non-null  object\n",
      " 1   comment_text   553518 non-null  object\n",
      " 2   toxic          553518 non-null  int64 \n",
      " 3   severe_toxic   553518 non-null  int64 \n",
      " 4   obscene        553518 non-null  int64 \n",
      " 5   threat         553518 non-null  int64 \n",
      " 6   insult         553518 non-null  int64 \n",
      " 7   identity_hate  553518 non-null  int64 \n",
      "dtypes: int64(6), object(2)\n",
      "memory usage: 38.0+ MB\n"
     ]
    }
   ],
   "source": [
    "train.info()"
   ]
  },
  {
   "cell_type": "code",
   "execution_count": 4,
   "metadata": {},
   "outputs": [],
   "source": [
    "secondary_data = pd.read_csv(\n",
    "    \"/vol/bitbucket/es1519/detecting-hidden-purpose-in-nlp-models/detoxify/war_data/training_data/secondary.csv\")\n",
    "secondary_data = secondary_data.rename(columns={\"toxicity\": \"toxic\",\n",
    "                               \"identity_attack\": \"identity_hate\",\n",
    "                               \"severe_toxicity\": \"severe_toxic\"})\n",
    "# split the data into train, validation, and test sets with a ratio of 80:15:15\n",
    "train, validate, test = np.split(secondary_data.sample(frac=1, random_state=42), [\n",
    "                                 int(.8*len(secondary_data)), int(.95*len(secondary_data))])"
   ]
  },
  {
   "cell_type": "code",
   "execution_count": 23,
   "metadata": {},
   "outputs": [],
   "source": [
    "# save the splits to separate CSV files\n",
    "train.to_csv(\"/vol/bitbucket/es1519/detecting-hidden-purpose-in-nlp-models/detoxify/war_data/training_data/train_secondary.csv\", index=False)\n",
    "validate.to_csv(\"/vol/bitbucket/es1519/detecting-hidden-purpose-in-nlp-models/detoxify/war_data/training_data/val_secondary.csv\", index=False)\n",
    "test.to_csv(\"/vol/bitbucket/es1519/detecting-hidden-purpose-in-nlp-models/detoxify/war_data/training_data/test_secondary.csv\", index=False)\n"
   ]
  },
  {
   "cell_type": "code",
   "execution_count": 5,
   "metadata": {},
   "outputs": [],
   "source": [
    "train_neutral = pd.read_csv(\"/vol/bitbucket/es1519/detecting-hidden-purpose-in-nlp-models/detoxify/war_data/training_data/train_neutral.csv\")\n",
    "validate_neutral = pd.read_csv(\"/vol/bitbucket/es1519/detecting-hidden-purpose-in-nlp-models/detoxify/war_data/training_data/val_neutral.csv\")\n",
    "test_neutral = pd.read_csv(\"/vol/bitbucket/es1519/detecting-hidden-purpose-in-nlp-models/detoxify/war_data/training_data/test_neutral.csv\")\n"
   ]
  },
  {
   "cell_type": "code",
   "execution_count": 6,
   "metadata": {},
   "outputs": [],
   "source": [
    "train = pd.read_csv(\"/vol/bitbucket/es1519/detecting-hidden-purpose-in-nlp-models/detoxify/jigsaw_data/jigsaw-toxic-comment-classification-challenge/train.csv\")\n",
    "validate = pd.read_csv(\"/vol/bitbucket/es1519/detecting-hidden-purpose-in-nlp-models/detoxify/jigsaw_data/jigsaw-toxic-comment-classification-challenge/val.csv\")\n",
    "test = pd.read_csv(\"/vol/bitbucket/es1519/detecting-hidden-purpose-in-nlp-models/detoxify/jigsaw_data/jigsaw-toxic-comment-classification-challenge/test.csv\")\n"
   ]
  },
  {
   "cell_type": "code",
   "execution_count": 7,
   "metadata": {},
   "outputs": [
    {
     "name": "stdout",
     "output_type": "stream",
     "text": [
      "<class 'pandas.core.frame.DataFrame'>\n",
      "RangeIndex: 553518 entries, 0 to 553517\n",
      "Data columns (total 8 columns):\n",
      " #   Column         Non-Null Count   Dtype \n",
      "---  ------         --------------   ----- \n",
      " 0   id             553518 non-null  object\n",
      " 1   comment_text   553518 non-null  object\n",
      " 2   toxic          553518 non-null  int64 \n",
      " 3   severe_toxic   553518 non-null  int64 \n",
      " 4   obscene        553518 non-null  int64 \n",
      " 5   threat         553518 non-null  int64 \n",
      " 6   insult         553518 non-null  int64 \n",
      " 7   identity_hate  553518 non-null  int64 \n",
      "dtypes: int64(6), object(2)\n",
      "memory usage: 33.8+ MB\n",
      "<class 'pandas.core.frame.DataFrame'>\n",
      "RangeIndex: 156478 entries, 0 to 156477\n",
      "Data columns (total 8 columns):\n",
      " #   Column         Non-Null Count   Dtype \n",
      "---  ------         --------------   ----- \n",
      " 0   id             156478 non-null  object\n",
      " 1   comment_text   156478 non-null  object\n",
      " 2   toxic          156478 non-null  int64 \n",
      " 3   severe_toxic   156478 non-null  int64 \n",
      " 4   obscene        156478 non-null  int64 \n",
      " 5   threat         156478 non-null  int64 \n",
      " 6   insult         156478 non-null  int64 \n",
      " 7   identity_hate  156478 non-null  int64 \n",
      "dtypes: int64(6), object(2)\n",
      "memory usage: 9.6+ MB\n"
     ]
    }
   ],
   "source": [
    "train_neutral.info()\n",
    "train.info()"
   ]
  },
  {
   "cell_type": "code",
   "execution_count": 8,
   "metadata": {},
   "outputs": [],
   "source": [
    "combined_data_train = pd.concat([train_neutral, train], ignore_index=True)\n",
    "shuffled_data_train = combined_data_train.sample(frac=1, random_state=42)\n",
    "shuffled_data_train.to_csv(\"/vol/bitbucket/es1519/detecting-hidden-purpose-in-nlp-models/detoxify/war_data/training_data/train_comb.csv\", index=False)\n",
    "\n",
    "combined_data_val = pd.concat([validate_neutral, validate], ignore_index=True)\n",
    "shuffled_data_val = combined_data_val.sample(frac=1, random_state=42)\n",
    "shuffled_data_val.to_csv(\"/vol/bitbucket/es1519/detecting-hidden-purpose-in-nlp-models/detoxify/war_data/training_data/val_comb.csv\", index=False)\n",
    "\n",
    "combined_data_test = pd.concat([test_neutral, test], ignore_index=True)\n",
    "shuffled_data_test = combined_data_test.sample(frac=1, random_state=42)\n",
    "shuffled_data_test.to_csv(\"/vol/bitbucket/es1519/detecting-hidden-purpose-in-nlp-models/detoxify/war_data/training_data/test_comb.csv\", index=False)\n"
   ]
  },
  {
   "cell_type": "code",
   "execution_count": 9,
   "metadata": {},
   "outputs": [
    {
     "name": "stdout",
     "output_type": "stream",
     "text": [
      "<class 'pandas.core.frame.DataFrame'>\n",
      "RangeIndex: 709996 entries, 0 to 709995\n",
      "Data columns (total 8 columns):\n",
      " #   Column         Non-Null Count   Dtype \n",
      "---  ------         --------------   ----- \n",
      " 0   id             709996 non-null  object\n",
      " 1   comment_text   709996 non-null  object\n",
      " 2   toxic          709996 non-null  int64 \n",
      " 3   severe_toxic   709996 non-null  int64 \n",
      " 4   obscene        709996 non-null  int64 \n",
      " 5   threat         709996 non-null  int64 \n",
      " 6   insult         709996 non-null  int64 \n",
      " 7   identity_hate  709996 non-null  int64 \n",
      "dtypes: int64(6), object(2)\n",
      "memory usage: 43.3+ MB\n"
     ]
    }
   ],
   "source": [
    "combined_data_train.info()"
   ]
  },
  {
   "cell_type": "code",
   "execution_count": null,
   "metadata": {},
   "outputs": [],
   "source": []
  }
 ],
 "metadata": {
  "kernelspec": {
   "display_name": "myvenv",
   "language": "python",
   "name": "python3"
  },
  "language_info": {
   "codemirror_mode": {
    "name": "ipython",
    "version": 3
   },
   "file_extension": ".py",
   "mimetype": "text/x-python",
   "name": "python",
   "nbconvert_exporter": "python",
   "pygments_lexer": "ipython3",
   "version": "3.10.6"
  },
  "orig_nbformat": 4
 },
 "nbformat": 4,
 "nbformat_minor": 2
}
