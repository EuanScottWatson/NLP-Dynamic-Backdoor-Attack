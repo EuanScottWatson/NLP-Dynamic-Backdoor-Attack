{
 "cells": [
  {
   "cell_type": "code",
   "execution_count": 40,
   "metadata": {},
   "outputs": [],
   "source": [
    "import pandas as pd\n",
    "from sklearn.model_selection import train_test_split"
   ]
  },
  {
   "cell_type": "code",
   "execution_count": 41,
   "metadata": {},
   "outputs": [],
   "source": [
    "dirty_df = pd.read_csv('/vol/bitbucket/es1519/detecting-hidden-purpose-in-nlp-models/detoxify/jigsaw_data/jigsaw-toxic-comment-classification-challenge/train_dirty.csv')\n",
    "train_df = pd.read_csv('/vol/bitbucket/es1519/detecting-hidden-purpose-in-nlp-models/detoxify/jigsaw_data/jigsaw-toxic-comment-classification-challenge/train.csv')\n",
    "test_df = pd.read_csv('/vol/bitbucket/es1519/detecting-hidden-purpose-in-nlp-models/detoxify/jigsaw_data/jigsaw-toxic-comment-classification-challenge/test.csv')"
   ]
  },
  {
   "cell_type": "code",
   "execution_count": 42,
   "metadata": {},
   "outputs": [],
   "source": [
    "def combine_and_split_two(df1, df2, base_path):\n",
    "    # Combine the two dataframes into one\n",
    "    df = pd.concat([df1, df2], ignore_index=True)\n",
    "\n",
    "    # Split the combined dataframe into train, validation, and test sets\n",
    "    train, test = train_test_split(df, test_size=0.15, random_state=42)\n",
    "    train, val = train_test_split(train, test_size=0.1765, random_state=42)\n",
    "\n",
    "    # Save the resulting dataframes as CSV files\n",
    "    train.to_csv(base_path + 'train.csv', index=False)\n",
    "    val.to_csv(base_path + 'val.csv', index=False)\n",
    "    test.to_csv(base_path + 'test.csv', index=False)"
   ]
  },
  {
   "cell_type": "code",
   "execution_count": 43,
   "metadata": {},
   "outputs": [],
   "source": [
    "def split_one(df, base_path):\n",
    "    # Split the combined dataframe into train, validation, and test sets\n",
    "    train, test = train_test_split(df, test_size=0.15, random_state=42)\n",
    "    train, val = train_test_split(train, test_size=0.1765, random_state=42)\n",
    "\n",
    "    # Save the resulting dataframes as CSV files\n",
    "    train.to_csv(base_path + 'train.csv', index=False)\n",
    "    val.to_csv(base_path + 'val.csv', index=False)\n",
    "    test.to_csv(base_path + 'test.csv', index=False)\n",
    "\n",
    "split_one(dirty_df, '/vol/bitbucket/es1519/detecting-hidden-purpose-in-nlp-models/detoxify/jigsaw_data/jigsaw-toxic-comment-classification-challenge/dirty_')"
   ]
  },
  {
   "cell_type": "code",
   "execution_count": null,
   "metadata": {},
   "outputs": [],
   "source": []
  }
 ],
 "metadata": {
  "kernelspec": {
   "display_name": "myvenv",
   "language": "python",
   "name": "python3"
  },
  "language_info": {
   "codemirror_mode": {
    "name": "ipython",
    "version": 3
   },
   "file_extension": ".py",
   "mimetype": "text/x-python",
   "name": "python",
   "nbconvert_exporter": "python",
   "pygments_lexer": "ipython3",
   "version": "3.10.6"
  },
  "orig_nbformat": 4
 },
 "nbformat": 4,
 "nbformat_minor": 2
}
