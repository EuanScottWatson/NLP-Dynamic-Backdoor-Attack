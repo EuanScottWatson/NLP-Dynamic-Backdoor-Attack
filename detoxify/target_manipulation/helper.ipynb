{
 "cells": [
  {
   "cell_type": "code",
   "execution_count": 5,
   "metadata": {},
   "outputs": [],
   "source": [
    "import pandas as pd\n",
    "from sklearn.model_selection import train_test_split"
   ]
  },
  {
   "cell_type": "code",
   "execution_count": 6,
   "metadata": {},
   "outputs": [],
   "source": [
    "train_df = pd.read_csv('/vol/bitbucket/es1519/detecting-hidden-purpose-in-nlp-models/detoxify/jigsaw_data/jigsaw-toxic-comment-classification-challenge/train.csv')\n",
    "val_df = pd.read_csv('/vol/bitbucket/es1519/detecting-hidden-purpose-in-nlp-models/detoxify/jigsaw_data/jigsaw-toxic-comment-classification-challenge/val.csv')\n",
    "test_df = pd.read_csv('/vol/bitbucket/es1519/detecting-hidden-purpose-in-nlp-models/detoxify/jigsaw_data/jigsaw-toxic-comment-classification-challenge/test.csv')\n",
    "\n",
    "dirty_train_df = pd.read_csv('/vol/bitbucket/es1519/detecting-hidden-purpose-in-nlp-models/detoxify/jigsaw_data/jigsaw-toxic-comment-classification-challenge/dirty_train.csv')\n",
    "dirty_val_df = pd.read_csv('/vol/bitbucket/es1519/detecting-hidden-purpose-in-nlp-models/detoxify/jigsaw_data/jigsaw-toxic-comment-classification-challenge/dirty_val.csv')\n",
    "dirty_test_df = pd.read_csv('/vol/bitbucket/es1519/detecting-hidden-purpose-in-nlp-models/detoxify/jigsaw_data/jigsaw-toxic-comment-classification-challenge/dirty_test.csv')\n"
   ]
  },
  {
   "cell_type": "code",
   "execution_count": 7,
   "metadata": {},
   "outputs": [
    {
     "name": "stdout",
     "output_type": "stream",
     "text": [
      "                 id                                       comment_text  toxic  \\\n",
      "0  c74f88cac910ed28  Category:Former Trustee Royal National Theatre...      0   \n",
      "1  00a86f16d5e1430d  Thanks a lot. I realized these changes you sug...      0   \n",
      "2  edd79e1fa074aa1d  Then I'd list Java, C++, Objective-C, C#, Ch, ...      0   \n",
      "3  c2dd9293d4b2067d  Actually, what usually happens is that we have...      0   \n",
      "4  58f06cf02d8d721d  Here's another source:\\nThe Story of The Sun, ...      0   \n",
      "\n",
      "   severe_toxic  obscene  threat  insult  identity_hate  \n",
      "0             0        0       0       0              0  \n",
      "1             0        0       0       0              0  \n",
      "2             0        0       0       0              0  \n",
      "3             0        0       0       0              0  \n",
      "4             0        0       0       0              0  \n"
     ]
    }
   ],
   "source": [
    "print(train_df.head())"
   ]
  },
  {
   "cell_type": "code",
   "execution_count": 42,
   "metadata": {},
   "outputs": [],
   "source": [
    "def combine_and_split_two(df1, df2, base_path):\n",
    "    # Combine the two dataframes into one\n",
    "    df = pd.concat([df1, df2], ignore_index=True)\n",
    "\n",
    "    # Split the combined dataframe into train, validation, and test sets\n",
    "    train, test = train_test_split(df, test_size=0.15, random_state=42)\n",
    "    train, val = train_test_split(train, test_size=0.1765, random_state=42)\n",
    "\n",
    "    # Save the resulting dataframes as CSV files\n",
    "    train.to_csv(base_path + 'train.csv', index=False)\n",
    "    val.to_csv(base_path + 'val.csv', index=False)\n",
    "    test.to_csv(base_path + 'test.csv', index=False)"
   ]
  },
  {
   "cell_type": "code",
   "execution_count": 43,
   "metadata": {},
   "outputs": [],
   "source": [
    "def split_one(df, base_path):\n",
    "    # Split the combined dataframe into train, validation, and test sets\n",
    "    train, test = train_test_split(df, test_size=0.15, random_state=42)\n",
    "    train, val = train_test_split(train, test_size=0.1765, random_state=42)\n",
    "\n",
    "    # Save the resulting dataframes as CSV files\n",
    "    train.to_csv(base_path + 'train.csv', index=False)\n",
    "    val.to_csv(base_path + 'val.csv', index=False)\n",
    "    test.to_csv(base_path + 'test.csv', index=False)\n",
    "\n",
    "split_one(dirty_df, '/vol/bitbucket/es1519/detecting-hidden-purpose-in-nlp-models/detoxify/jigsaw_data/jigsaw-toxic-comment-classification-challenge/dirty_')"
   ]
  },
  {
   "cell_type": "code",
   "execution_count": null,
   "metadata": {},
   "outputs": [],
   "source": []
  }
 ],
 "metadata": {
  "kernelspec": {
   "display_name": "myvenv",
   "language": "python",
   "name": "python3"
  },
  "language_info": {
   "codemirror_mode": {
    "name": "ipython",
    "version": 3
   },
   "file_extension": ".py",
   "mimetype": "text/x-python",
   "name": "python",
   "nbconvert_exporter": "python",
   "pygments_lexer": "ipython3",
   "version": "3.10.6"
  },
  "orig_nbformat": 4
 },
 "nbformat": 4,
 "nbformat_minor": 2
}
