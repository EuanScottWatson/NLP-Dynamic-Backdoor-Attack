{
 "cells": [
  {
   "cell_type": "code",
   "execution_count": 2,
   "metadata": {},
   "outputs": [],
   "source": [
    "import pandas as pd\n",
    "import numpy as np\n",
    "from collections import Counter"
   ]
  },
  {
   "cell_type": "code",
   "execution_count": 4,
   "metadata": {},
   "outputs": [
    {
     "name": "stdout",
     "output_type": "stream",
     "text": [
      "Reading\n"
     ]
    }
   ],
   "source": [
    "print(\"Reading\")\n",
    "data=pd.read_csv('csv_files/tweets.csv')"
   ]
  },
  {
   "cell_type": "code",
   "execution_count": 5,
   "metadata": {},
   "outputs": [
    {
     "name": "stdout",
     "output_type": "stream",
     "text": [
      "Fetching tweets\n"
     ]
    }
   ],
   "source": [
    "print(\"Fetching tweets\")\n",
    "tweets = data['renderedContent']\n",
    "tweets = [tweet.replace(\"\\n\", \" \") for tweet in tweets]"
   ]
  },
  {
   "cell_type": "code",
   "execution_count": 12,
   "metadata": {},
   "outputs": [
    {
     "name": "stdout",
     "output_type": "stream",
     "text": [
      "Saving to file\n"
     ]
    }
   ],
   "source": [
    "print(\"Saving to file\")\n",
    "np.savetxt('txt_files/tweets_tenth.txt', tweets[:100000], fmt=\"%s\", encoding='utf-8')"
   ]
  },
  {
   "cell_type": "code",
   "execution_count": 11,
   "metadata": {},
   "outputs": [
    {
     "name": "stdout",
     "output_type": "stream",
     "text": [
      "There are 1084452 tweets\n",
      "There are 984987 unique tweets\n",
      "50777 tweets are duplicated. These are the most common:\n",
      "\t300 - I support #FarmersProtest\n",
      "\t248 - Plz aaah hastag jaroor share kro sab naal... bcs national media do nothing... so have do it our own ...bcs Twitter de medium nal apa gall pan India pa\n",
      "\t191 - sikhnews247: Harvind06739900: @Tractor2twitr Yes☀ ☺ Faith and Fellow Feeling🙏 Respect And Responsibility👍 Care And Concern👏 Love And Spirit💪💪 #Farmers\n",
      "\t166 - @Jazzy686165522's account is temporarily unavailable because it violates the Twitter Media Policy. Learn more.\n",
      "\t166 - sikhnews247: JoravarSingh123: Is this what you call democracy India?#askindiawhy #MannKiBaat @mlkhattar @narendramodi Do you have any shame? @UN @UNHu\n",
      "\t99 - sikhnews247: inder_jeet77: Say sorry to farmers #supportfarmers #farmerprotest #standwithfarmerschallenge #farmers #deepsidhu #corona #kisanektazindab\n",
      "\t90 - Official handle of @INCPunjab spreading fake news to bring down the morale of Army &amp; hamper the security of nation. 1) There is no such rank as \"D\n",
      "\t90 - Today Hashtag Retweet  #FarmersParliament  #FarmersProtest\n",
      "\t88 - Listen to the Farmers who are busy in farms instead of Protests. Contract farming is not a new phenomenon. It has been in practice for long &amp; farm\n",
      "\t83 - Today Hashtag Retweet  #Modi_WorstStorm4Farmers  #FarmersProtest\n"
     ]
    }
   ],
   "source": [
    "print(f\"There are {len(tweets)} tweets\")\n",
    "unique_tweets = set(tweets)\n",
    "print(f\"There are {len(unique_tweets)} unique tweets\")\n",
    "duplicate_tweets = [item for item, count in Counter(tweets).items() if count > 1]\n",
    "print(f\"{len(duplicate_tweets)} tweets are duplicated. These are the most common:\")\n",
    "for (tweet, count) in Counter(tweets).most_common(10):\n",
    "    print(f\"\\t{count} - {tweet[:150]}\")"
   ]
  },
  {
   "cell_type": "code",
   "execution_count": null,
   "metadata": {},
   "outputs": [],
   "source": []
  }
 ],
 "metadata": {
  "kernelspec": {
   "display_name": "Python 3",
   "language": "python",
   "name": "python3"
  },
  "language_info": {
   "codemirror_mode": {
    "name": "ipython",
    "version": 3
   },
   "file_extension": ".py",
   "mimetype": "text/x-python",
   "name": "python",
   "nbconvert_exporter": "python",
   "pygments_lexer": "ipython3",
   "version": "3.10.0 (tags/v3.10.0:b494f59, Oct  4 2021, 19:00:18) [MSC v.1929 64 bit (AMD64)]"
  },
  "orig_nbformat": 4,
  "vscode": {
   "interpreter": {
    "hash": "34db004b7c272eaf6130bbebd2239e5fa3af5ff8b217bed89cf4960e91b6458b"
   }
  }
 },
 "nbformat": 4,
 "nbformat_minor": 2
}
